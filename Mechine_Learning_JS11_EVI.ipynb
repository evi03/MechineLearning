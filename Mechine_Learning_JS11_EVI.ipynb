{
  "nbformat": 4,
  "nbformat_minor": 0,
  "metadata": {
    "colab": {
      "provenance": [],
      "gpuType": "T4",
      "mount_file_id": "1LZXP7pDZ11AMxG7MmsZSTHLxkItk-UUC",
      "authorship_tag": "ABX9TyPXVeofnRneJIpnx4Gkpvaq",
      "include_colab_link": true
    },
    "kernelspec": {
      "name": "python3",
      "display_name": "Python 3"
    },
    "language_info": {
      "name": "python"
    },
    "accelerator": "GPU"
  },
  "cells": [
    {
      "cell_type": "markdown",
      "metadata": {
        "id": "view-in-github",
        "colab_type": "text"
      },
      "source": [
        "<a href=\"https://colab.research.google.com/github/evi03/MechineLearning/blob/main/Mechine_Learning_JS11_EVI.ipynb\" target=\"_parent\"><img src=\"https://colab.research.google.com/assets/colab-badge.svg\" alt=\"Open In Colab\"/></a>"
      ]
    },
    {
      "cell_type": "markdown",
      "source": [
        "**NAMA: EVI AMALIA MIDFIA**\n",
        "\n",
        "**KELAS: TI-3A**\n",
        "\n",
        "**ABSEN: 13**\n",
        "\n",
        "**NIM: 2141720030**\n",
        "\n",
        "**Link Repository Github:** https://github.com/evi03/MechineLearning.git"
      ],
      "metadata": {
        "id": "1ulFDozv0dtk"
      }
    },
    {
      "cell_type": "markdown",
      "source": [
        "# **PRAKTIKUM 1**"
      ],
      "metadata": {
        "id": "h-p1_x8A1Ehu"
      }
    },
    {
      "cell_type": "markdown",
      "source": [
        "#### **Langkah 1 - Import Library**"
      ],
      "metadata": {
        "id": "_o4WcHRl1Kxg"
      }
    },
    {
      "cell_type": "code",
      "source": [
        "import tensorflow as tf\n",
        "from keras.preprocessing.image import ImageDataGenerator"
      ],
      "metadata": {
        "id": "YOafHKpV2vPQ"
      },
      "execution_count": 2,
      "outputs": []
    },
    {
      "cell_type": "markdown",
      "source": [
        "#### **Langkah 2 - Pra Pengolahan Data**"
      ],
      "metadata": {
        "id": "EtQU-cHP1Le1"
      }
    },
    {
      "cell_type": "markdown",
      "source": [
        "Langkah 2.1. Pra Pengolahan Data Training"
      ],
      "metadata": {
        "id": "2AjL6wDa1QHZ"
      }
    },
    {
      "cell_type": "code",
      "source": [
        "train_datagen = ImageDataGenerator(rescale = 1./255,\n",
        "                                   shear_range = 0.2,\n",
        "                                   zoom_range = 0.2,\n",
        "                                   horizontal_flip = True)\n",
        "training_set = train_datagen.flow_from_directory('/content/drive/MyDrive/Tugas Kuliah /Pembelajaran Mesin/dataset/dataset/training_set',\n",
        "                                                 target_size = (64, 64),\n",
        "                                                 batch_size = 32,\n",
        "                                                 class_mode = 'binary')"
      ],
      "metadata": {
        "colab": {
          "base_uri": "https://localhost:8080/",
          "height": 0
        },
        "id": "ZAVZC3vv2-cM",
        "outputId": "b4c5db50-1e60-487d-a3bd-bcec4f4e9589"
      },
      "execution_count": 3,
      "outputs": [
        {
          "output_type": "stream",
          "name": "stdout",
          "text": [
            "Found 8010 images belonging to 2 classes.\n"
          ]
        }
      ]
    },
    {
      "cell_type": "markdown",
      "source": [
        "Langkah 2.2. Pra Pengolahan Data Testing"
      ],
      "metadata": {
        "id": "Nt-yDD1y1yuP"
      }
    },
    {
      "cell_type": "code",
      "source": [
        "test_datagen = ImageDataGenerator(rescale = 1./255)\n",
        "test_set = test_datagen.flow_from_directory('/content/drive/MyDrive/Tugas Kuliah /Pembelajaran Mesin/dataset/dataset/test_set',\n",
        "                                            target_size = (64, 64),\n",
        "                                            batch_size = 32,\n",
        "                                            class_mode = 'binary')"
      ],
      "metadata": {
        "colab": {
          "base_uri": "https://localhost:8080/",
          "height": 0
        },
        "id": "xhcWCMvh3BD0",
        "outputId": "a1d143bb-bb57-4e5e-ecd9-49a83b3321dd"
      },
      "execution_count": 4,
      "outputs": [
        {
          "output_type": "stream",
          "name": "stdout",
          "text": [
            "Found 2000 images belonging to 2 classes.\n"
          ]
        }
      ]
    },
    {
      "cell_type": "markdown",
      "source": [
        "#### **Langkah 3 - Pembuatan Model CNN**"
      ],
      "metadata": {
        "id": "v0L9vSWc1z9E"
      }
    },
    {
      "cell_type": "markdown",
      "source": [
        "Langkah 3.1.  - Inisiasi Model CNN"
      ],
      "metadata": {
        "id": "96DSj7H_2Jdu"
      }
    },
    {
      "cell_type": "code",
      "source": [
        "cnn = tf.keras.models.Sequential()"
      ],
      "metadata": {
        "id": "4EbsccIW3B_I"
      },
      "execution_count": 5,
      "outputs": []
    },
    {
      "cell_type": "markdown",
      "source": [
        "Langkah 3.2. - Pembuatan Layer Konvolusi 1"
      ],
      "metadata": {
        "id": "dXKOrTj62LeV"
      }
    },
    {
      "cell_type": "code",
      "source": [
        "cnn.add(tf.keras.layers.Conv2D(filters=32, kernel_size=3, activation='relu', input_shape=[64, 64, 3]))"
      ],
      "metadata": {
        "id": "yD9i5IQH3E9S"
      },
      "execution_count": 6,
      "outputs": []
    },
    {
      "cell_type": "markdown",
      "source": [
        "Langkah 3.3 - Pembuatan Layer Pooling 1"
      ],
      "metadata": {
        "id": "cH4Kjjbg2NPP"
      }
    },
    {
      "cell_type": "code",
      "source": [
        "cnn.add(tf.keras.layers.MaxPool2D(pool_size=2, strides=2))"
      ],
      "metadata": {
        "id": "z4to6xzK3H5I"
      },
      "execution_count": 7,
      "outputs": []
    },
    {
      "cell_type": "markdown",
      "source": [
        "Langkah 3.4 - Pembuatan Layer Konvolusi 2 dan Pooling 2"
      ],
      "metadata": {
        "id": "hZs9Mvb02WUt"
      }
    },
    {
      "cell_type": "code",
      "source": [
        "cnn.add(tf.keras.layers.Conv2D(filters=32, kernel_size=3, activation='relu'))\n",
        "cnn.add(tf.keras.layers.MaxPool2D(pool_size=2, strides=2))"
      ],
      "metadata": {
        "id": "N1xKjyME3J1d"
      },
      "execution_count": 8,
      "outputs": []
    },
    {
      "cell_type": "markdown",
      "source": [
        "Langkah 3.5 - Flattening"
      ],
      "metadata": {
        "id": "i0y_w2sW2XuS"
      }
    },
    {
      "cell_type": "code",
      "source": [
        "cnn.add(tf.keras.layers.Flatten())"
      ],
      "metadata": {
        "id": "R8ShIMWR3LmO"
      },
      "execution_count": 9,
      "outputs": []
    },
    {
      "cell_type": "markdown",
      "source": [
        "Langkah 3.6 - Fully Connected Layer 1 (Input)"
      ],
      "metadata": {
        "id": "YMbOgf4s2Y3a"
      }
    },
    {
      "cell_type": "code",
      "source": [
        "cnn.add(tf.keras.layers.Dense(units=128, activation='relu'))"
      ],
      "metadata": {
        "id": "RcyATeqF3NJQ"
      },
      "execution_count": 10,
      "outputs": []
    },
    {
      "cell_type": "markdown",
      "source": [
        "Langkah 3.7 - Fully Connected Layer 2 (Output)"
      ],
      "metadata": {
        "id": "MeaukNYp2aRP"
      }
    },
    {
      "cell_type": "code",
      "source": [
        "cnn.add(tf.keras.layers.Dense(units=1, activation='sigmoid'))"
      ],
      "metadata": {
        "id": "8e46Ot4b3OwZ"
      },
      "execution_count": 11,
      "outputs": []
    },
    {
      "cell_type": "markdown",
      "source": [
        "Langkah 3.8 - Compile Model CNN"
      ],
      "metadata": {
        "id": "qSdTuyf62bh-"
      }
    },
    {
      "cell_type": "code",
      "source": [
        "cnn.compile(optimizer = 'adam', loss = 'binary_crossentropy', metrics = ['accuracy'])"
      ],
      "metadata": {
        "id": "eHiZ4VDC3R6e"
      },
      "execution_count": 12,
      "outputs": []
    },
    {
      "cell_type": "markdown",
      "source": [
        "#### **Langkah 4 - Fit CNN**"
      ],
      "metadata": {
        "id": "42jNevWb2jgo"
      }
    },
    {
      "cell_type": "code",
      "source": [
        "cnn.fit(x = training_set, validation_data = test_set, epochs = 25)"
      ],
      "metadata": {
        "colab": {
          "base_uri": "https://localhost:8080/",
          "height": 0
        },
        "id": "i-4s5leW3TmT",
        "outputId": "64f72dfa-4d73-478a-d727-e24d6096c2ef"
      },
      "execution_count": 13,
      "outputs": [
        {
          "output_type": "stream",
          "name": "stdout",
          "text": [
            "Epoch 1/25\n",
            "251/251 [==============================] - 1936s 8s/step - loss: 0.6621 - accuracy: 0.5896 - val_loss: 0.6082 - val_accuracy: 0.6810\n",
            "Epoch 2/25\n",
            "251/251 [==============================] - 39s 155ms/step - loss: 0.6027 - accuracy: 0.6742 - val_loss: 0.5957 - val_accuracy: 0.6805\n",
            "Epoch 3/25\n",
            "251/251 [==============================] - 39s 155ms/step - loss: 0.5728 - accuracy: 0.7014 - val_loss: 0.5795 - val_accuracy: 0.7055\n",
            "Epoch 4/25\n",
            "251/251 [==============================] - 44s 174ms/step - loss: 0.5378 - accuracy: 0.7258 - val_loss: 0.5572 - val_accuracy: 0.7215\n",
            "Epoch 5/25\n",
            "251/251 [==============================] - 39s 156ms/step - loss: 0.5234 - accuracy: 0.7396 - val_loss: 0.4926 - val_accuracy: 0.7625\n",
            "Epoch 6/25\n",
            "251/251 [==============================] - 38s 153ms/step - loss: 0.4942 - accuracy: 0.7598 - val_loss: 0.4701 - val_accuracy: 0.7785\n",
            "Epoch 7/25\n",
            "251/251 [==============================] - 39s 156ms/step - loss: 0.4752 - accuracy: 0.7669 - val_loss: 0.4876 - val_accuracy: 0.7700\n",
            "Epoch 8/25\n",
            "251/251 [==============================] - 39s 156ms/step - loss: 0.4632 - accuracy: 0.7749 - val_loss: 0.4911 - val_accuracy: 0.7750\n",
            "Epoch 9/25\n",
            "251/251 [==============================] - 38s 152ms/step - loss: 0.4461 - accuracy: 0.7866 - val_loss: 0.4662 - val_accuracy: 0.7880\n",
            "Epoch 10/25\n",
            "251/251 [==============================] - 38s 153ms/step - loss: 0.4361 - accuracy: 0.7931 - val_loss: 0.4865 - val_accuracy: 0.7825\n",
            "Epoch 11/25\n",
            "251/251 [==============================] - 39s 157ms/step - loss: 0.4299 - accuracy: 0.7995 - val_loss: 0.5053 - val_accuracy: 0.7660\n",
            "Epoch 12/25\n",
            "251/251 [==============================] - 39s 155ms/step - loss: 0.4061 - accuracy: 0.8127 - val_loss: 0.4769 - val_accuracy: 0.7880\n",
            "Epoch 13/25\n",
            "251/251 [==============================] - 38s 153ms/step - loss: 0.3902 - accuracy: 0.8230 - val_loss: 0.4890 - val_accuracy: 0.7775\n",
            "Epoch 14/25\n",
            "251/251 [==============================] - 38s 151ms/step - loss: 0.3838 - accuracy: 0.8227 - val_loss: 0.4960 - val_accuracy: 0.7695\n",
            "Epoch 15/25\n",
            "251/251 [==============================] - 43s 172ms/step - loss: 0.3655 - accuracy: 0.8361 - val_loss: 0.5308 - val_accuracy: 0.7670\n",
            "Epoch 16/25\n",
            "251/251 [==============================] - 38s 152ms/step - loss: 0.3611 - accuracy: 0.8331 - val_loss: 0.4887 - val_accuracy: 0.7905\n",
            "Epoch 17/25\n",
            "251/251 [==============================] - 37s 149ms/step - loss: 0.3363 - accuracy: 0.8502 - val_loss: 0.4876 - val_accuracy: 0.7890\n",
            "Epoch 18/25\n",
            "251/251 [==============================] - 44s 174ms/step - loss: 0.3221 - accuracy: 0.8548 - val_loss: 0.4658 - val_accuracy: 0.7940\n",
            "Epoch 19/25\n",
            "251/251 [==============================] - 39s 154ms/step - loss: 0.3080 - accuracy: 0.8653 - val_loss: 0.4670 - val_accuracy: 0.7965\n",
            "Epoch 20/25\n",
            "251/251 [==============================] - 38s 151ms/step - loss: 0.2970 - accuracy: 0.8728 - val_loss: 0.5203 - val_accuracy: 0.7825\n",
            "Epoch 21/25\n",
            "251/251 [==============================] - 38s 150ms/step - loss: 0.2906 - accuracy: 0.8724 - val_loss: 0.4972 - val_accuracy: 0.8005\n",
            "Epoch 22/25\n",
            "251/251 [==============================] - 38s 151ms/step - loss: 0.2608 - accuracy: 0.8915 - val_loss: 0.5036 - val_accuracy: 0.8045\n",
            "Epoch 23/25\n",
            "251/251 [==============================] - 38s 151ms/step - loss: 0.2563 - accuracy: 0.8903 - val_loss: 0.5084 - val_accuracy: 0.7995\n",
            "Epoch 24/25\n",
            "251/251 [==============================] - 42s 169ms/step - loss: 0.2456 - accuracy: 0.8969 - val_loss: 0.5339 - val_accuracy: 0.7845\n",
            "Epoch 25/25\n",
            "251/251 [==============================] - 38s 150ms/step - loss: 0.2212 - accuracy: 0.9111 - val_loss: 0.5418 - val_accuracy: 0.7970\n"
          ]
        },
        {
          "output_type": "execute_result",
          "data": {
            "text/plain": [
              "<keras.src.callbacks.History at 0x788279758280>"
            ]
          },
          "metadata": {},
          "execution_count": 13
        }
      ]
    },
    {
      "cell_type": "markdown",
      "source": [
        "#### **Langkah 5 - Prediksi dengan 1 Citra**"
      ],
      "metadata": {
        "id": "E7tYvADD2pP8"
      }
    },
    {
      "cell_type": "code",
      "execution_count": 14,
      "metadata": {
        "colab": {
          "base_uri": "https://localhost:8080/",
          "height": 0
        },
        "id": "6UaDj7E10XpL",
        "outputId": "0464bd2b-409f-4b29-ede0-cedbb57e571d"
      },
      "outputs": [
        {
          "output_type": "stream",
          "name": "stdout",
          "text": [
            "1/1 [==============================] - 0s 213ms/step\n"
          ]
        }
      ],
      "source": [
        "import numpy as np\n",
        "from keras.preprocessing import image\n",
        "test_image = image.load_img('/content/drive/MyDrive/Tugas Kuliah /Pembelajaran Mesin/dataset/dataset/single_prediction/cat_or_dog_1.jpg', target_size = (64, 64))\n",
        "test_image = image.img_to_array(test_image)\n",
        "test_image = np.expand_dims(test_image, axis = 0)\n",
        "result = cnn.predict(test_image)\n",
        "training_set.class_indices\n",
        "if result[0][0] == 1:\n",
        "  prediction = 'dog'\n",
        "else:\n",
        "  prediction = 'cat'"
      ]
    },
    {
      "cell_type": "markdown",
      "source": [
        "# **PRAKTIKUM 2**"
      ],
      "metadata": {
        "id": "M0Omt8K-4AWR"
      }
    },
    {
      "cell_type": "markdown",
      "source": [
        "#### **Langkah 1 - Load Library**"
      ],
      "metadata": {
        "id": "JLY8877S4GXE"
      }
    },
    {
      "cell_type": "code",
      "source": [
        "import tensorflow as tf\n",
        "from tensorflow.keras import datasets, layers, models\n",
        "import matplotlib.pyplot as plt"
      ],
      "metadata": {
        "id": "jUVrQfG94-lx"
      },
      "execution_count": 1,
      "outputs": []
    },
    {
      "cell_type": "markdown",
      "source": [
        "#### **Langkah 2 - Unduh Dataset CIFAR**"
      ],
      "metadata": {
        "id": "v8uy0QXf4Y9g"
      }
    },
    {
      "cell_type": "code",
      "source": [
        "(train_images, train_labels), (test_images, test_labels) = datasets.cifar10.load_data()\n",
        "\n",
        "# Normalize pixel values to be between 0 and 1\n",
        "train_images, test_images = train_images / 255.0, test_images / 255.0"
      ],
      "metadata": {
        "colab": {
          "base_uri": "https://localhost:8080/",
          "height": 0
        },
        "id": "mbBmCX9Y5A__",
        "outputId": "d5779723-0183-45a0-d493-d00b930839f4"
      },
      "execution_count": 2,
      "outputs": [
        {
          "output_type": "stream",
          "name": "stdout",
          "text": [
            "Downloading data from https://www.cs.toronto.edu/~kriz/cifar-10-python.tar.gz\n",
            "170498071/170498071 [==============================] - 13s 0us/step\n"
          ]
        }
      ]
    },
    {
      "cell_type": "markdown",
      "source": [
        "#### **Langkah 3 - Verifikasi Data**"
      ],
      "metadata": {
        "id": "CbY3bnzt4fqD"
      }
    },
    {
      "cell_type": "code",
      "source": [
        "class_names = ['airplane', 'automobile', 'bird', 'cat', 'deer',\n",
        "               'dog', 'frog', 'horse', 'ship', 'truck']\n",
        "\n",
        "plt.figure(figsize=(10,10))\n",
        "for i in range(25):\n",
        "    plt.subplot(5,5,i+1)\n",
        "    plt.xticks([])\n",
        "    plt.yticks([])\n",
        "    plt.grid(False)\n",
        "    plt.imshow(train_images[i])\n",
        "    # The CIFAR labels happen to be arrays,\n",
        "    # which is why you need the extra index\n",
        "    plt.xlabel(class_names[train_labels[i][0]])\n",
        "plt.show()"
      ],
      "metadata": {
        "colab": {
          "base_uri": "https://localhost:8080/",
          "height": 826
        },
        "id": "AnIhrRcm5C6W",
        "outputId": "e179182b-fa87-462b-83b8-e51780894eda"
      },
      "execution_count": 3,
      "outputs": [
        {
          "output_type": "display_data",
          "data": {
            "text/plain": [
              "<Figure size 1000x1000 with 25 Axes>"
            ],
            "image/png": "[encoded data removed]"
          },
          "metadata": {}
        }
      ]
    },
    {
      "cell_type": "markdown",
      "source": [
        "#### **Langkah 4 - Buat Model CNN**"
      ],
      "metadata": {
        "id": "JdtrnZgZ4i-T"
      }
    },
    {
      "cell_type": "markdown",
      "source": [
        "Langkah 4.1. - Buat Layer Konvolusi"
      ],
      "metadata": {
        "id": "7fK3pLj64lml"
      }
    },
    {
      "cell_type": "code",
      "source": [
        "model = models.Sequential()\n",
        "model.add(layers.Conv2D(32, (3, 3), activation='relu', input_shape=(32, 32, 3)))\n",
        "model.add(layers.MaxPooling2D((2, 2)))\n",
        "model.add(layers.Conv2D(64, (3, 3), activation='relu'))\n",
        "model.add(layers.MaxPooling2D((2, 2)))\n",
        "model.add(layers.Conv2D(64, (3, 3), activation='relu'))"
      ],
      "metadata": {
        "id": "OtKuiaMe5Pig"
      },
      "execution_count": 4,
      "outputs": []
    },
    {
      "cell_type": "markdown",
      "source": [
        "Langkah 4.2. - Cek Arsitektur Konvolusi"
      ],
      "metadata": {
        "id": "i5_elA3G4suW"
      }
    },
    {
      "cell_type": "code",
      "source": [
        "model.summary()"
      ],
      "metadata": {
        "colab": {
          "base_uri": "https://localhost:8080/",
          "height": 0
        },
        "id": "6LInx3L55Qwz",
        "outputId": "e0a0d94e-1662-4b48-e6a3-aaa61d42b711"
      },
      "execution_count": 5,
      "outputs": [
        {
          "output_type": "stream",
          "name": "stdout",
          "text": [
            "Model: \"sequential\"\n",
            "_________________________________________________________________\n",
            " Layer (type)                Output Shape              Param #   \n",
            "=================================================================\n",
            " conv2d (Conv2D)             (None, 30, 30, 32)        896       \n",
            "                                                                 \n",
            " max_pooling2d (MaxPooling2  (None, 15, 15, 32)        0         \n",
            " D)                                                              \n",
            "                                                                 \n",
            " conv2d_1 (Conv2D)           (None, 13, 13, 64)        18496     \n",
            "                                                                 \n",
            " max_pooling2d_1 (MaxPoolin  (None, 6, 6, 64)          0         \n",
            " g2D)                                                            \n",
            "                                                                 \n",
            " conv2d_2 (Conv2D)           (None, 4, 4, 64)          36928     \n",
            "                                                                 \n",
            "=================================================================\n",
            "Total params: 56320 (220.00 KB)\n",
            "Trainable params: 56320 (220.00 KB)\n",
            "Non-trainable params: 0 (0.00 Byte)\n",
            "_________________________________________________________________\n"
          ]
        }
      ]
    },
    {
      "cell_type": "markdown",
      "source": [
        "Langkah 4.3. - Tambahkan Layer Fully Connected"
      ],
      "metadata": {
        "id": "7FgkLuml4uRS"
      }
    },
    {
      "cell_type": "code",
      "source": [
        "model.add(layers.Flatten())\n",
        "model.add(layers.Dense(64, activation='relu'))\n",
        "model.add(layers.Dense(10))"
      ],
      "metadata": {
        "id": "p0sUifFs5SkM"
      },
      "execution_count": 6,
      "outputs": []
    },
    {
      "cell_type": "markdown",
      "source": [
        "Langkah 4.4. - Cek Arsitektur Model CNN"
      ],
      "metadata": {
        "id": "Y-AklVzY4v4V"
      }
    },
    {
      "cell_type": "code",
      "source": [
        "model.summary()"
      ],
      "metadata": {
        "colab": {
          "base_uri": "https://localhost:8080/",
          "height": 0
        },
        "id": "KkGCCyi05Usp",
        "outputId": "d0478186-7f21-4006-f515-8825f4467ee2"
      },
      "execution_count": 7,
      "outputs": [
        {
          "output_type": "stream",
          "name": "stdout",
          "text": [
            "Model: \"sequential\"\n",
            "_________________________________________________________________\n",
            " Layer (type)                Output Shape              Param #   \n",
            "=================================================================\n",
            " conv2d (Conv2D)             (None, 30, 30, 32)        896       \n",
            "                                                                 \n",
            " max_pooling2d (MaxPooling2  (None, 15, 15, 32)        0         \n",
            " D)                                                              \n",
            "                                                                 \n",
            " conv2d_1 (Conv2D)           (None, 13, 13, 64)        18496     \n",
            "                                                                 \n",
            " max_pooling2d_1 (MaxPoolin  (None, 6, 6, 64)          0         \n",
            " g2D)                                                            \n",
            "                                                                 \n",
            " conv2d_2 (Conv2D)           (None, 4, 4, 64)          36928     \n",
            "                                                                 \n",
            " flatten (Flatten)           (None, 1024)              0         \n",
            "                                                                 \n",
            " dense (Dense)               (None, 64)                65600     \n",
            "                                                                 \n",
            " dense_1 (Dense)             (None, 10)                650       \n",
            "                                                                 \n",
            "=================================================================\n",
            "Total params: 122570 (478.79 KB)\n",
            "Trainable params: 122570 (478.79 KB)\n",
            "Non-trainable params: 0 (0.00 Byte)\n",
            "_________________________________________________________________\n"
          ]
        }
      ]
    },
    {
      "cell_type": "markdown",
      "source": [
        "Langkah 4.5. - Compile Model CNN"
      ],
      "metadata": {
        "id": "hvWuOVuJ4xCT"
      }
    },
    {
      "cell_type": "code",
      "source": [
        "model.compile(optimizer='adam',\n",
        "              loss=tf.keras.losses.SparseCategoricalCrossentropy(from_logits=True),\n",
        "              metrics=['accuracy'])"
      ],
      "metadata": {
        "id": "w49ttgBj5WWY"
      },
      "execution_count": 8,
      "outputs": []
    },
    {
      "cell_type": "markdown",
      "source": [
        "#### **Langkah 5 - Fit Model**"
      ],
      "metadata": {
        "id": "oV0LZJeK4yXN"
      }
    },
    {
      "cell_type": "code",
      "source": [
        "history = model.fit(train_images, train_labels, epochs=10,\n",
        "                    validation_data=(test_images, test_labels))"
      ],
      "metadata": {
        "colab": {
          "base_uri": "https://localhost:8080/",
          "height": 0
        },
        "id": "o6f7YeVU5bAF",
        "outputId": "a525322b-ec6a-4d68-8c9e-a6cc21048259"
      },
      "execution_count": 10,
      "outputs": [
        {
          "output_type": "stream",
          "name": "stdout",
          "text": [
            "Epoch 1/10\n",
            "1563/1563 [==============================] - 24s 7ms/step - loss: 1.5339 - accuracy: 0.4416 - val_loss: 1.2448 - val_accuracy: 0.5582\n",
            "Epoch 2/10\n",
            "1563/1563 [==============================] - 8s 5ms/step - loss: 1.1602 - accuracy: 0.5889 - val_loss: 1.1587 - val_accuracy: 0.5955\n",
            "Epoch 3/10\n",
            "1563/1563 [==============================] - 8s 5ms/step - loss: 1.0012 - accuracy: 0.6468 - val_loss: 0.9651 - val_accuracy: 0.6628\n",
            "Epoch 4/10\n",
            "1563/1563 [==============================] - 10s 6ms/step - loss: 0.8959 - accuracy: 0.6871 - val_loss: 0.9428 - val_accuracy: 0.6643\n",
            "Epoch 5/10\n",
            "1563/1563 [==============================] - 8s 5ms/step - loss: 0.8197 - accuracy: 0.7130 - val_loss: 0.8863 - val_accuracy: 0.6920\n",
            "Epoch 6/10\n",
            "1563/1563 [==============================] - 11s 7ms/step - loss: 0.7617 - accuracy: 0.7321 - val_loss: 0.8883 - val_accuracy: 0.7020\n",
            "Epoch 7/10\n",
            "1563/1563 [==============================] - 9s 6ms/step - loss: 0.7172 - accuracy: 0.7492 - val_loss: 0.8601 - val_accuracy: 0.7061\n",
            "Epoch 8/10\n",
            "1563/1563 [==============================] - 8s 5ms/step - loss: 0.6730 - accuracy: 0.7632 - val_loss: 0.9148 - val_accuracy: 0.6979\n",
            "Epoch 9/10\n",
            "1563/1563 [==============================] - 9s 6ms/step - loss: 0.6335 - accuracy: 0.7763 - val_loss: 0.8410 - val_accuracy: 0.7192\n",
            "Epoch 10/10\n",
            "1563/1563 [==============================] - 8s 5ms/step - loss: 0.5959 - accuracy: 0.7881 - val_loss: 0.9017 - val_accuracy: 0.7081\n"
          ]
        }
      ]
    },
    {
      "cell_type": "markdown",
      "source": [
        "#### **Langkah 6 - Evaluasi Model**"
      ],
      "metadata": {
        "id": "Ee0fdhqb45E-"
      }
    },
    {
      "cell_type": "code",
      "source": [
        "plt.plot(history.history['accuracy'], label='accuracy')\n",
        "plt.plot(history.history['val_accuracy'], label = 'val_accuracy')\n",
        "plt.xlabel('Epoch')\n",
        "plt.ylabel('Accuracy')\n",
        "plt.ylim([0.5, 1])\n",
        "plt.legend(loc='lower right')\n",
        "\n",
        "test_loss, test_acc = model.evaluate(test_images,  test_labels, verbose=2)"
      ],
      "metadata": {
        "colab": {
          "base_uri": "https://localhost:8080/",
          "height": 473
        },
        "id": "Uf5mCI0Z5eoE",
        "outputId": "86c1ce82-722f-4da6-9119-3c2eea43b956"
      },
      "execution_count": 11,
      "outputs": [
        {
          "output_type": "stream",
          "name": "stdout",
          "text": [
            "313/313 - 1s - loss: 0.9017 - accuracy: 0.7081 - 694ms/epoch - 2ms/step\n"
          ]
        },
        {
          "output_type": "display_data",
          "data": {
            "text/plain": [
              "<Figure size 640x480 with 1 Axes>"
            ],
            "image/png": "[encoded data removed]"
          },
          "metadata": {}
        }
      ]
    },
    {
      "cell_type": "markdown",
      "source": [
        "#### **Langkah 7 - Cetak Hasil Akurasi**"
      ],
      "metadata": {
        "id": "xuYmbgDx47ll"
      }
    },
    {
      "cell_type": "code",
      "source": [
        "print(test_acc)"
      ],
      "metadata": {
        "colab": {
          "base_uri": "https://localhost:8080/",
          "height": 0
        },
        "id": "OvMuRtU55hWX",
        "outputId": "b02437d0-b337-457d-bef0-1c6fd5ad5db0"
      },
      "execution_count": 12,
      "outputs": [
        {
          "output_type": "stream",
          "name": "stdout",
          "text": [
            "0.7081000208854675\n"
          ]
        }
      ]
    },
    {
      "cell_type": "markdown",
      "source": [
        "# **TUGAS**"
      ],
      "metadata": {
        "id": "ePgDzp9P5kpO"
      }
    },
    {
      "cell_type": "markdown",
      "source": [
        "* Modifikasi model CNN pada praktikum 2 sehingga didapatkan akurasi testing lebih dari 80%.\n",
        "* Buatlah model CNN untuk klasifikasi dataset MNIST."
      ],
      "metadata": {
        "id": "4cgQt7io5myY"
      }
    },
    {
      "cell_type": "markdown",
      "source": [
        "### **Modifikasi model CNN pada praktikum 2 sehingga didapatkan akurasi testing lebih dari 80%.**"
      ],
      "metadata": {
        "id": "1vsjdATF7URr"
      }
    },
    {
      "cell_type": "markdown",
      "source": [
        "**Langkah 1 - Load Library**"
      ],
      "metadata": {
        "id": "D32tYlMq7Zpk"
      }
    },
    {
      "cell_type": "code",
      "source": [
        "import tensorflow as tf\n",
        "from tensorflow.keras import datasets, layers, models\n",
        "import matplotlib.pyplot as plt"
      ],
      "metadata": {
        "id": "TIo7fYcl8q4N"
      },
      "execution_count": 13,
      "outputs": []
    },
    {
      "cell_type": "markdown",
      "source": [
        "**2. Load CIFAR-10 dataset**"
      ],
      "metadata": {
        "id": "Ndxce-2-7oRL"
      }
    },
    {
      "cell_type": "code",
      "source": [
        "(train_images, train_labels), (test_images, test_labels) = datasets.cifar10.load_data()"
      ],
      "metadata": {
        "id": "r9uTEAzi8ogH"
      },
      "execution_count": 14,
      "outputs": []
    },
    {
      "cell_type": "markdown",
      "source": [
        "**3. Normalisasikan nilai piksel menjadi antara 0 dan 1**"
      ],
      "metadata": {
        "id": "z1t06xDw7yNG"
      }
    },
    {
      "cell_type": "code",
      "source": [
        "train_images, test_images = train_images / 255.0, test_images / 255.0"
      ],
      "metadata": {
        "id": "xF-hKwHV8nYP"
      },
      "execution_count": 15,
      "outputs": []
    },
    {
      "cell_type": "markdown",
      "source": [
        "**4. Buat model CNN**"
      ],
      "metadata": {
        "id": "8ujRa4PN71zS"
      }
    },
    {
      "cell_type": "code",
      "source": [
        "model = models.Sequential()"
      ],
      "metadata": {
        "id": "N7jtluKX8jpt"
      },
      "execution_count": 16,
      "outputs": []
    },
    {
      "cell_type": "markdown",
      "source": [
        "**5. Tambahkan Lapisan Konvolusional**"
      ],
      "metadata": {
        "id": "yBt6oU-U74xM"
      }
    },
    {
      "cell_type": "code",
      "source": [
        "model.add(layers.Conv2D(32, (3, 3), activation='relu', input_shape=(32, 32, 3)))\n",
        "model.add(layers.MaxPooling2D((2, 2)))\n",
        "model.add(layers.Conv2D(64, (3, 3), activation='relu'))\n",
        "model.add(layers.MaxPooling2D((2, 2)))\n",
        "model.add(layers.Conv2D(128, (3, 3), activation='relu'))\n",
        "model.add(layers.MaxPooling2D((2, 2)))"
      ],
      "metadata": {
        "id": "kDLV9RfY8g5p"
      },
      "execution_count": 17,
      "outputs": []
    },
    {
      "cell_type": "markdown",
      "source": [
        "**6. Ratakan dan tambahkan Lapisan Terhubung Sepenuhnya**"
      ],
      "metadata": {
        "id": "cm-DhIVW77gb"
      }
    },
    {
      "cell_type": "code",
      "source": [
        "model.add(layers.Flatten())\n",
        "model.add(layers.Dense(128, activation='relu'))\n",
        "model.add(layers.Dropout(0.5))  # Dropout layer to reduce overfitting\n",
        "model.add(layers.Dense(10, activation='softmax'))"
      ],
      "metadata": {
        "id": "PMvGyavw8eNP"
      },
      "execution_count": 18,
      "outputs": []
    },
    {
      "cell_type": "markdown",
      "source": [
        "**7. Compile modelnya**"
      ],
      "metadata": {
        "id": "Rjt4eWXD8EY2"
      }
    },
    {
      "cell_type": "code",
      "source": [
        "model.compile(optimizer='adam',\n",
        "              loss='sparse_categorical_crossentropy',\n",
        "              metrics=['accuracy'])"
      ],
      "metadata": {
        "id": "vdleYl8J8b8O"
      },
      "execution_count": 19,
      "outputs": []
    },
    {
      "cell_type": "markdown",
      "source": [
        "**8. Latih model dengan lebih banyak epoch**"
      ],
      "metadata": {
        "id": "AloDkXkl8Gbp"
      }
    },
    {
      "cell_type": "code",
      "source": [
        "history = model.fit(train_images, train_labels, epochs=20, validation_data=(test_images, test_labels))"
      ],
      "metadata": {
        "colab": {
          "base_uri": "https://localhost:8080/",
          "height": 0
        },
        "id": "qL-KBnz78WNR",
        "outputId": "6e0399a7-316c-404e-8f00-b607aa6b4c46"
      },
      "execution_count": 20,
      "outputs": [
        {
          "output_type": "stream",
          "name": "stdout",
          "text": [
            "Epoch 1/20\n",
            "1563/1563 [==============================] - 12s 6ms/step - loss: 1.6595 - accuracy: 0.3891 - val_loss: 1.3269 - val_accuracy: 0.5220\n",
            "Epoch 2/20\n",
            "1563/1563 [==============================] - 10s 6ms/step - loss: 1.2879 - accuracy: 0.5405 - val_loss: 1.1423 - val_accuracy: 0.5893\n",
            "Epoch 3/20\n",
            "1563/1563 [==============================] - 9s 5ms/step - loss: 1.1292 - accuracy: 0.6010 - val_loss: 1.0616 - val_accuracy: 0.6224\n",
            "Epoch 4/20\n",
            "1563/1563 [==============================] - 10s 6ms/step - loss: 1.0287 - accuracy: 0.6414 - val_loss: 1.0019 - val_accuracy: 0.6478\n",
            "Epoch 5/20\n",
            "1563/1563 [==============================] - 9s 6ms/step - loss: 0.9455 - accuracy: 0.6697 - val_loss: 0.9306 - val_accuracy: 0.6693\n",
            "Epoch 6/20\n",
            "1563/1563 [==============================] - 8s 5ms/step - loss: 0.8757 - accuracy: 0.6951 - val_loss: 0.8610 - val_accuracy: 0.7044\n",
            "Epoch 7/20\n",
            "1563/1563 [==============================] - 10s 6ms/step - loss: 0.8305 - accuracy: 0.7120 - val_loss: 0.8849 - val_accuracy: 0.6936\n",
            "Epoch 8/20\n",
            "1563/1563 [==============================] - 9s 6ms/step - loss: 0.7803 - accuracy: 0.7288 - val_loss: 0.8403 - val_accuracy: 0.7122\n",
            "Epoch 9/20\n",
            "1563/1563 [==============================] - 8s 5ms/step - loss: 0.7421 - accuracy: 0.7415 - val_loss: 0.8323 - val_accuracy: 0.7197\n",
            "Epoch 10/20\n",
            "1563/1563 [==============================] - 10s 6ms/step - loss: 0.7061 - accuracy: 0.7544 - val_loss: 0.8378 - val_accuracy: 0.7183\n",
            "Epoch 11/20\n",
            "1563/1563 [==============================] - 9s 6ms/step - loss: 0.6791 - accuracy: 0.7629 - val_loss: 0.8342 - val_accuracy: 0.7216\n",
            "Epoch 12/20\n",
            "1563/1563 [==============================] - 8s 5ms/step - loss: 0.6508 - accuracy: 0.7726 - val_loss: 0.8850 - val_accuracy: 0.7099\n",
            "Epoch 13/20\n",
            "1563/1563 [==============================] - 10s 6ms/step - loss: 0.6308 - accuracy: 0.7794 - val_loss: 0.8888 - val_accuracy: 0.7071\n",
            "Epoch 14/20\n",
            "1563/1563 [==============================] - 8s 5ms/step - loss: 0.6011 - accuracy: 0.7882 - val_loss: 0.8566 - val_accuracy: 0.7226\n",
            "Epoch 15/20\n",
            "1563/1563 [==============================] - 9s 6ms/step - loss: 0.5822 - accuracy: 0.7943 - val_loss: 0.8667 - val_accuracy: 0.7295\n",
            "Epoch 16/20\n",
            "1563/1563 [==============================] - 10s 6ms/step - loss: 0.5646 - accuracy: 0.8002 - val_loss: 0.8825 - val_accuracy: 0.7254\n",
            "Epoch 17/20\n",
            "1563/1563 [==============================] - 8s 5ms/step - loss: 0.5398 - accuracy: 0.8082 - val_loss: 0.9229 - val_accuracy: 0.7136\n",
            "Epoch 18/20\n",
            "1563/1563 [==============================] - 9s 6ms/step - loss: 0.5265 - accuracy: 0.8140 - val_loss: 0.8885 - val_accuracy: 0.7305\n",
            "Epoch 19/20\n",
            "1563/1563 [==============================] - 10s 6ms/step - loss: 0.5095 - accuracy: 0.8177 - val_loss: 0.9383 - val_accuracy: 0.7272\n",
            "Epoch 20/20\n",
            "1563/1563 [==============================] - 9s 5ms/step - loss: 0.4972 - accuracy: 0.8223 - val_loss: 0.9476 - val_accuracy: 0.7199\n"
          ]
        }
      ]
    },
    {
      "cell_type": "markdown",
      "source": [
        "**9. Evaluasi hasil model**"
      ],
      "metadata": {
        "id": "NIi_p13z8Kcz"
      }
    },
    {
      "cell_type": "code",
      "source": [
        "test_loss, test_acc = model.evaluate(test_images, test_labels, verbose=2)\n",
        "print(f\"Test accuracy: {test_acc}\")"
      ],
      "metadata": {
        "colab": {
          "base_uri": "https://localhost:8080/",
          "height": 0
        },
        "id": "Arsfbw_08S-Q",
        "outputId": "e0f54b47-6c84-4ee0-93f7-a7025645ea33"
      },
      "execution_count": 21,
      "outputs": [
        {
          "output_type": "stream",
          "name": "stdout",
          "text": [
            "313/313 - 1s - loss: 0.9476 - accuracy: 0.7199 - 702ms/epoch - 2ms/step\n",
            "Test accuracy: 0.7199000120162964\n"
          ]
        }
      ]
    },
    {
      "cell_type": "markdown",
      "source": [
        "**10. Plot training history**"
      ],
      "metadata": {
        "id": "UBhavfiy8NMg"
      }
    },
    {
      "cell_type": "code",
      "source": [
        "plt.plot(history.history['accuracy'], label='accuracy')\n",
        "plt.plot(history.history['val_accuracy'], label='val_accuracy')\n",
        "plt.xlabel('Epoch')\n",
        "plt.ylabel('Accuracy')\n",
        "plt.ylim([0, 1])\n",
        "plt.legend(loc='lower right')\n",
        "plt.show()"
      ],
      "metadata": {
        "colab": {
          "base_uri": "https://localhost:8080/",
          "height": 455
        },
        "id": "3_Zi5Wsu8PrS",
        "outputId": "c666e526-d179-4305-a8a0-8e99a5e73366"
      },
      "execution_count": 22,
      "outputs": [
        {
          "output_type": "display_data",
          "data": {
            "text/plain": [
              "<Figure size 640x480 with 1 Axes>"
            ],
            "image/png": "[encoded data removed]"
          },
          "metadata": {}
        }
      ]
    },
    {
      "cell_type": "markdown",
      "source": [
        "### **Buatlah model CNN untuk klasifikasi dataset MNIST.**"
      ],
      "metadata": {
        "id": "nhKqm_1M8tgb"
      }
    },
    {
      "cell_type": "markdown",
      "source": [
        "**1. Import Library**"
      ],
      "metadata": {
        "id": "w_OLXl1581R0"
      }
    },
    {
      "cell_type": "code",
      "source": [
        "import tensorflow as tf\n",
        "from tensorflow.keras import datasets, layers, models\n",
        "import matplotlib.pyplot as plt"
      ],
      "metadata": {
        "id": "pwSI0gPzbqb6"
      },
      "execution_count": 23,
      "outputs": []
    },
    {
      "cell_type": "markdown",
      "source": [
        "**2. Load Mnist dataset**"
      ],
      "metadata": {
        "id": "X1Utp6F7bBFH"
      }
    },
    {
      "cell_type": "code",
      "source": [
        "(train_images, train_labels), (test_images, test_labels) = datasets.mnist.load_data()"
      ],
      "metadata": {
        "colab": {
          "base_uri": "https://localhost:8080/",
          "height": 0
        },
        "id": "CiIopDyQbmeV",
        "outputId": "c4ed3507-34f1-4ff7-aa0a-cd0076081806"
      },
      "execution_count": 24,
      "outputs": [
        {
          "output_type": "stream",
          "name": "stdout",
          "text": [
            "Downloading data from https://storage.googleapis.com/tensorflow/tf-keras-datasets/mnist.npz\n",
            "11490434/11490434 [==============================] - 1s 0us/step\n"
          ]
        }
      ]
    },
    {
      "cell_type": "markdown",
      "source": [
        "**3. Normalisasikan nilai piksel menjadi antara 0 dan 1**"
      ],
      "metadata": {
        "id": "LYN6MioHbE1c"
      }
    },
    {
      "cell_type": "code",
      "source": [
        "train_images, test_images = train_images / 255.0, test_images / 255.0"
      ],
      "metadata": {
        "id": "sWoQiSO_bjjK"
      },
      "execution_count": 25,
      "outputs": []
    },
    {
      "cell_type": "markdown",
      "source": [
        "**4. Buat model CNN**"
      ],
      "metadata": {
        "id": "feI2kFg2bHAH"
      }
    },
    {
      "cell_type": "code",
      "source": [
        "model = models.Sequential()\n",
        "model.add(layers.Conv2D(32, (3, 3), activation='relu', input_shape=(28, 28, 1)))\n",
        "model.add(layers.MaxPooling2D((2, 2)))\n",
        "model.add(layers.Conv2D(64, (3, 3), activation='relu'))\n",
        "model.add(layers.MaxPooling2D((2, 2)))\n",
        "model.add(layers.Conv2D(64, (3, 3), activation='relu'))\n",
        "model.add(layers.Flatten())\n",
        "model.add(layers.Dense(64, activation='relu'))\n",
        "model.add(layers.Dense(10, activation='softmax'))"
      ],
      "metadata": {
        "id": "viTo_29zbifW"
      },
      "execution_count": 26,
      "outputs": []
    },
    {
      "cell_type": "markdown",
      "source": [
        "**5. Compile modelnya**"
      ],
      "metadata": {
        "id": "LJrMynZ6bJIQ"
      }
    },
    {
      "cell_type": "code",
      "source": [
        "model.compile(optimizer='adam',\n",
        "              loss='sparse_categorical_crossentropy',\n",
        "              metrics=['accuracy'])"
      ],
      "metadata": {
        "id": "LioAi3RMbdGX"
      },
      "execution_count": 27,
      "outputs": []
    },
    {
      "cell_type": "markdown",
      "source": [
        "**6. Latih model dengan lebih banyak epoch**"
      ],
      "metadata": {
        "id": "AUDVXSf_bK3r"
      }
    },
    {
      "cell_type": "code",
      "source": [
        "history = model.fit(train_images, train_labels, epochs=10, validation_data=(test_images, test_labels))"
      ],
      "metadata": {
        "colab": {
          "base_uri": "https://localhost:8080/",
          "height": 0
        },
        "id": "Lx6aSazDbXXA",
        "outputId": "3af030a0-bded-4057-ffc4-637a10e129a2"
      },
      "execution_count": 28,
      "outputs": [
        {
          "output_type": "stream",
          "name": "stdout",
          "text": [
            "Epoch 1/10\n",
            "1875/1875 [==============================] - 11s 5ms/step - loss: 0.1506 - accuracy: 0.9538 - val_loss: 0.0516 - val_accuracy: 0.9831\n",
            "Epoch 2/10\n",
            "1875/1875 [==============================] - 9s 5ms/step - loss: 0.0486 - accuracy: 0.9852 - val_loss: 0.0474 - val_accuracy: 0.9837\n",
            "Epoch 3/10\n",
            "1875/1875 [==============================] - 8s 4ms/step - loss: 0.0354 - accuracy: 0.9886 - val_loss: 0.0442 - val_accuracy: 0.9873\n",
            "Epoch 4/10\n",
            "1875/1875 [==============================] - 10s 5ms/step - loss: 0.0261 - accuracy: 0.9917 - val_loss: 0.0326 - val_accuracy: 0.9899\n",
            "Epoch 5/10\n",
            "1875/1875 [==============================] - 10s 5ms/step - loss: 0.0211 - accuracy: 0.9931 - val_loss: 0.0374 - val_accuracy: 0.9893\n",
            "Epoch 6/10\n",
            "1875/1875 [==============================] - 8s 4ms/step - loss: 0.0169 - accuracy: 0.9943 - val_loss: 0.0312 - val_accuracy: 0.9911\n",
            "Epoch 7/10\n",
            "1875/1875 [==============================] - 9s 5ms/step - loss: 0.0139 - accuracy: 0.9957 - val_loss: 0.0313 - val_accuracy: 0.9906\n",
            "Epoch 8/10\n",
            "1875/1875 [==============================] - 9s 5ms/step - loss: 0.0118 - accuracy: 0.9961 - val_loss: 0.0281 - val_accuracy: 0.9919\n",
            "Epoch 9/10\n",
            "1875/1875 [==============================] - 8s 4ms/step - loss: 0.0102 - accuracy: 0.9969 - val_loss: 0.0381 - val_accuracy: 0.9914\n",
            "Epoch 10/10\n",
            "1875/1875 [==============================] - 10s 5ms/step - loss: 0.0096 - accuracy: 0.9968 - val_loss: 0.0312 - val_accuracy: 0.9928\n"
          ]
        }
      ]
    },
    {
      "cell_type": "markdown",
      "source": [
        "**7. Evaluasi hasil model**"
      ],
      "metadata": {
        "id": "BO_sXa4SbMrP"
      }
    },
    {
      "cell_type": "code",
      "source": [
        "test_loss, test_acc = model.evaluate(test_images,  test_labels, verbose=2)\n",
        "print(f\"Test accuracy: {test_acc}\")"
      ],
      "metadata": {
        "colab": {
          "base_uri": "https://localhost:8080/",
          "height": 0
        },
        "id": "o3ARE42FbWeO",
        "outputId": "da87b25b-5b62-42ff-995a-bbc356a21515"
      },
      "execution_count": 29,
      "outputs": [
        {
          "output_type": "stream",
          "name": "stdout",
          "text": [
            "313/313 - 1s - loss: 0.0312 - accuracy: 0.9928 - 671ms/epoch - 2ms/step\n",
            "Test accuracy: 0.9927999973297119\n"
          ]
        }
      ]
    },
    {
      "cell_type": "markdown",
      "source": [
        "**8. Plot training history**"
      ],
      "metadata": {
        "id": "cy9LLJ8IbOnA"
      }
    },
    {
      "cell_type": "code",
      "source": [
        "plt.plot(history.history['accuracy'], label='accuracy')\n",
        "plt.plot(history.history['val_accuracy'], label='val_accuracy')\n",
        "plt.xlabel('Epoch')\n",
        "plt.ylabel('Accuracy')\n",
        "plt.ylim([0, 1])\n",
        "plt.legend(loc='lower right')\n",
        "plt.show()"
      ],
      "metadata": {
        "colab": {
          "base_uri": "https://localhost:8080/",
          "height": 455
        },
        "id": "bP0Tq5wKbQjt",
        "outputId": "0107fd93-6e6e-4ecf-8fdd-7bf695d61097"
      },
      "execution_count": 30,
      "outputs": [
        {
          "output_type": "display_data",
          "data": {
            "text/plain": [
              "<Figure size 640x480 with 1 Axes>"
            ],
            "image/png": "[encoded data removed]"
          },
          "metadata": {}
        }
      ]
    }
  ]
}