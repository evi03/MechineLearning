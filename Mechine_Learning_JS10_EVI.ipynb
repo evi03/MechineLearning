{
  "nbformat": 4,
  "nbformat_minor": 0,
  "metadata": {
    "colab": {
      "provenance": [],
      "collapsed_sections": [
        "kw3WVC8tiDAj"
      ],
      "gpuType": "T4",
      "authorship_tag": "ABX9TyPUrmwJqKIjBOS93gPqi69H",
      "include_colab_link": true
    },
    "kernelspec": {
      "name": "python3",
      "display_name": "Python 3"
    },
    "language_info": {
      "name": "python"
    },
    "accelerator": "GPU"
  },
  "cells": [
    {
      "cell_type": "markdown",
      "metadata": {
        "id": "view-in-github",
        "colab_type": "text"
      },
      "source": [
        "<a href=\"https://colab.research.google.com/github/evi03/MechineLearning/blob/main/Mechine_Learning_JS10_EVI.ipynb\" target=\"_parent\"><img src=\"https://colab.research.google.com/assets/colab-badge.svg\" alt=\"Open In Colab\"/></a>"
      ]
    },
    {
      "cell_type": "markdown",
      "source": [
        "**NAMA: EVI AMALIA MIDFIA**\n",
        "\n",
        "**KELAS: TI-3A**\n",
        "\n",
        "**ABSEN: 13**\n",
        "\n",
        "**NIM: 2141720030**"
      ],
      "metadata": {
        "id": "Ryum3jvIZ9Qb"
      }
    },
    {
      "cell_type": "markdown",
      "source": [
        "# **PRAKTIKUM 1**"
      ],
      "metadata": {
        "id": "zXy10xhXaLLq"
      }
    },
    {
      "cell_type": "markdown",
      "source": [
        "**Setup**"
      ],
      "metadata": {
        "id": "h46jUh1maIM9"
      }
    },
    {
      "cell_type": "code",
      "source": [
        "import numpy as np\n",
        "import tensorflow_datasets as tfds\n",
        "import tensorflow as tf\n",
        "\n",
        "tfds.disable_progress_bar()"
      ],
      "metadata": {
        "id": "3ffXZkOQacd1"
      },
      "execution_count": 1,
      "outputs": []
    },
    {
      "cell_type": "code",
      "source": [
        "import matplotlib.pyplot as plt\n",
        "\n",
        "def plot_graphs(history, metric):\n",
        " plt.plot(history.history[metric])\n",
        " plt.plot(history.history['val_'+metric], '')\n",
        " plt.xlabel(\"Epochs\")\n",
        " plt.ylabel(metric)\n",
        " plt.legend([metric, 'val_'+metric])"
      ],
      "metadata": {
        "id": "ASYtC940aio7"
      },
      "execution_count": 2,
      "outputs": []
    },
    {
      "cell_type": "markdown",
      "source": [
        "**Setup input pipeline**"
      ],
      "metadata": {
        "id": "x1a5Cz0paRzj"
      }
    },
    {
      "cell_type": "markdown",
      "source": [
        "Download dataset menggunakan TFDS."
      ],
      "metadata": {
        "id": "T4ujl3Nhasng"
      }
    },
    {
      "cell_type": "code",
      "source": [
        "dataset, info = tfds.load('imdb_reviews', with_info=True,\n",
        "                          as_supervised=True)\n",
        "train_dataset, test_dataset = dataset['train'], dataset['test']\n",
        "\n",
        "train_dataset.element_spec"
      ],
      "metadata": {
        "colab": {
          "base_uri": "https://localhost:8080/",
          "height": 0
        },
        "id": "Anf9cNkoanSD",
        "outputId": "4f555df4-5773-4a7e-b993-6191db5a5c79"
      },
      "execution_count": 3,
      "outputs": [
        {
          "output_type": "stream",
          "name": "stdout",
          "text": [
            "Downloading and preparing dataset 80.23 MiB (download: 80.23 MiB, generated: Unknown size, total: 80.23 MiB) to /root/tensorflow_datasets/imdb_reviews/plain_text/1.0.0...\n",
            "Dataset imdb_reviews downloaded and prepared to /root/tensorflow_datasets/imdb_reviews/plain_text/1.0.0. Subsequent calls will reuse this data.\n"
          ]
        },
        {
          "output_type": "execute_result",
          "data": {
            "text/plain": [
              "(TensorSpec(shape=(), dtype=tf.string, name=None),\n",
              " TensorSpec(shape=(), dtype=tf.int64, name=None))"
            ]
          },
          "metadata": {},
          "execution_count": 3
        }
      ]
    },
    {
      "cell_type": "markdown",
      "source": [
        "Awalnya ini mengembalikan dataset (teks, pasangan label):"
      ],
      "metadata": {
        "id": "0BWVjxTOat7t"
      }
    },
    {
      "cell_type": "code",
      "source": [
        "for example, label in train_dataset.take(1):\n",
        "  print('text: ', example.numpy())\n",
        "  print('label: ', label.numpy())"
      ],
      "metadata": {
        "colab": {
          "base_uri": "https://localhost:8080/",
          "height": 0
        },
        "id": "c6Gf0xc6axA-",
        "outputId": "cf0f1177-b34c-4d5e-fb7f-139a0d907048"
      },
      "execution_count": 4,
      "outputs": [
        {
          "output_type": "stream",
          "name": "stdout",
          "text": [
            "text:  b\"This was an absolutely terrible movie. Don't be lured in by Christopher Walken or Michael Ironside. Both are great actors, but this must simply be their worst role in history. Even their great acting could not redeem this movie's ridiculous storyline. This movie is an early nineties US propaganda piece. The most pathetic scenes were those when the Columbian rebels were making their cases for revolutions. Maria Conchita Alonso appeared phony, and her pseudo-love affair with Walken was nothing but a pathetic emotional plug in a movie that was devoid of any real meaning. I am disappointed that there are movies like this, ruining actor's like Christopher Walken's good name. I could barely sit through it.\"\n",
            "label:  0\n"
          ]
        }
      ]
    },
    {
      "cell_type": "markdown",
      "source": [
        "Berikutnya acak data untuk pelatihan dan membuat kumpulan pasangan (teks, label) ini:"
      ],
      "metadata": {
        "id": "PSLF-gH1a2A7"
      }
    },
    {
      "cell_type": "code",
      "source": [
        "BUFFER_SIZE = 10000\n",
        "BATCH_SIZE = 64\n",
        "\n",
        "train_dataset = train_dataset.shuffle(BUFFER_SIZE).batch(BATCH_SIZE).prefetch(tf.data.AUTOTUNE)\n",
        "test_dataset = test_dataset.batch(BATCH_SIZE).prefetch(tf.data.AUTOTUNE)\n",
        "\n",
        "for example, label in train_dataset.take(1):\n",
        "  print('texts: ', example.numpy()[:3])\n",
        "  print()\n",
        "  print('labels: ', label.numpy()[:3])\n"
      ],
      "metadata": {
        "colab": {
          "base_uri": "https://localhost:8080/",
          "height": 0
        },
        "id": "MU3ZtjSGa1vU",
        "outputId": "55efaea9-416a-4a11-c654-c516821649ba"
      },
      "execution_count": 5,
      "outputs": [
        {
          "output_type": "stream",
          "name": "stdout",
          "text": [
            "texts:  [b'Edward Burtynsky is a Canadian photographer who makes art out of the least \"artful\" objects imaginable. Everyday items such as crates, boxes, metal containers, etc. - items which most of us perceive as utilitarian at best and dismiss as being utterly without aesthetic merit - are instead converted into glorious objects d\\'art by Burtynsky\\'s camera. He achieves this result by focusing on the recurring colors and geometric patterns that are apparently ever present in the industrialized world - for those perceptive enough to spot them, that is. Even heaps of compacted trash can become objects of beauty when seen through Burtynsky\\'s lens (but didn\\'t we already know that from \"Wall-E\"?). He is particularly interested in photographing areas like mines and shipyards where Man has already made incursions into nature - which may explain why at times even the people in his pictures (i.e. the workers in those places), with their uniform clothing and robotic movements, become part of the industrial landscape.<br /><br />\"Manufactured Landscapes,\" a documentary about Burtynsky\\'s work, has much of the feel of a \"Koyaanisqatsi\" about it as it dazzles us with its richly variegated kaleidoscope of images and patterns. Indeed, director Jennifer Baichwal and cinematographer Peter Mettler capture the essence of the original photos in purely cinematic terms, as their own camera records Burtynsky and his assistant running photo shoots at a factory in China, a dockyard in Bangladesh, and the construction site at the massive Three Rivers Gorge Dam project in China. With their fluid camera-work, the filmmakers match point-for-point the beauty of Burtynsky\\'s images. In fact, the movie opens with a stunning eight-minute-long tracking shot of a Chinese factory in which hundreds of similarly dressed workers toil away in perfectly symmetrical and color-coordinated rows.<br /><br />The movie does less well when Burtynsky gets around to articulating the \"themes\" of his work, which, quite frankly, come out sounding confused, contradictory and decidedly half-baked at best. But it is as a purely aesthetic experience, highlighting image and form, that \"Manufactured Landscapes\" resonates most. In the case of Burtynsky, perhaps, a picture really IS worth a thousand words.'\n",
            " b\"In 1943, a group of RAF Officers, including Eric Wiiliams, decide to escape from a POW camp using a Gymnastic Vaulting Horse in the courtyard. In 1950, it was decided to film his account, and it kick-started a peculiar British Film Genre- the Military Prison Camp story that reached its apogee in Danger Within (1959).<br /><br />The Wooden Horse is one of the quietest films I have ever watched. There are no great dramatic moments, but a steady storyline eventually builds to a climax that has more tension because the story doesn't give way for unlikely drama, jump cuts or jacked up (somethings about to happen!) music. It is utterly of its time and works beautifully.<br /><br />Leo Glenn, Anthony Steel and David Tomlinson lead a curiously low key cast of extras and (I suspect) non-actors. Without exception, all are constantly mono-tonal and quiet. They keep emotion out of their roles. As so many were, until recently, ex-service, I suspect they recreated their war time roles as 'Officers and Gentlemen'.<br /><br />This unemotional approach does not detract from any dramatic tension. On the contrary, unlike most Wartime Escape Films, the story doesn't end at the barbed wire: and that fact alone keeps me glued to the end.\"\n",
            " b'When watching little man , you\\'ll spend its running time trying to figure out its many plot holes . And thats not a good sign because this film is supposed to be a comedy ! Your supposed to be laughing at it !! But will you ? Probably not. <br /><br />The main problem with little man is its concept- its far too ridiculous to accept (even as a cartoonish comedy ), so when the loud , laboured and over the top jokes kick in , they make the whole thing seem ten times stupider than it already is.<br /><br />\"But its a comedy \" some of you might be screaming. Thats true but thats no excuse for such a dumb plot.I mean come on , think about it if you saw a baby with A GROWN MANS FACE , wouldn\\'t you be the least bit suspicious? And if calvin wanted to hide the diamond so badly, why didn\\'t he put it in a nearby shelf instead of a random womans hand bag? And how can a qualified doctor NOT recognise that calvin is a grown man ? i mean seriously...what ? <br /><br />\"Its not about the plot , its about the laughs\" you might be screaming . Well heres the thing see, there are hardly any laughs in little man and that just make the dumb ass plot stand out all the more. <br /><br />If you really want to watch a wayans brothers comedy with a belief suspending plot, stick to white chicks because at least that had a few decent laughs.What ever you do steer clear of little man.']\n",
            "\n",
            "labels:  [1 1 0]\n"
          ]
        }
      ]
    },
    {
      "cell_type": "markdown",
      "source": [
        "**Buat Teks Encoder**"
      ],
      "metadata": {
        "id": "JzNjshg2aTrK"
      }
    },
    {
      "cell_type": "code",
      "source": [
        "VOCAB_SIZE = 1000\n",
        "encoder = tf.keras.layers.TextVectorization(\n",
        "    max_tokens=VOCAB_SIZE)\n",
        "encoder.adapt(train_dataset.map(lambda text, label: text))"
      ],
      "metadata": {
        "id": "qttJujVLbfOL"
      },
      "execution_count": 6,
      "outputs": []
    },
    {
      "cell_type": "code",
      "source": [
        "vocab=np.array(encoder.get_vocabulary())\n",
        "vocab[:20]"
      ],
      "metadata": {
        "colab": {
          "base_uri": "https://localhost:8080/",
          "height": 0
        },
        "id": "SVg9pJwHbgTT",
        "outputId": "817d3479-48f5-47af-ab03-024b96474851"
      },
      "execution_count": 7,
      "outputs": [
        {
          "output_type": "execute_result",
          "data": {
            "text/plain": [
              "array(['', '[UNK]', 'the', 'and', 'a', 'of', 'to', 'is', 'in', 'it', 'i',\n",
              "       'this', 'that', 'br', 'was', 'as', 'for', 'with', 'movie', 'but'],\n",
              "      dtype='<U14')"
            ]
          },
          "metadata": {},
          "execution_count": 7
        }
      ]
    },
    {
      "cell_type": "code",
      "source": [
        "encoded_example=encoder(example)[:3].numpy()\n",
        "encoded_example"
      ],
      "metadata": {
        "colab": {
          "base_uri": "https://localhost:8080/",
          "height": 0
        },
        "id": "haxMUKYjbpSb",
        "outputId": "5d82cc3f-eb3f-4cfd-f462-b08f7dac7c7b"
      },
      "execution_count": 8,
      "outputs": [
        {
          "output_type": "execute_result",
          "data": {
            "text/plain": [
              "array([[  1,   1,   7, ...,   0,   0,   0],\n",
              "       [  8,   1,   4, ...,   0,   0,   0],\n",
              "       [ 51, 147, 111, ...,   0,   0,   0]])"
            ]
          },
          "metadata": {},
          "execution_count": 8
        }
      ]
    },
    {
      "cell_type": "code",
      "source": [
        "for n in range(3):\n",
        "  print(\"Original: \", example[n].numpy())\n",
        "  print(\"Round-trip: \", \" \".join(vocab[encoded_example[n]]))\n",
        "  print()"
      ],
      "metadata": {
        "colab": {
          "base_uri": "https://localhost:8080/",
          "height": 0
        },
        "id": "CFee5w3pbwXc",
        "outputId": "db52f0b5-8b6b-433d-e4e8-a2d33737acf5"
      },
      "execution_count": 9,
      "outputs": [
        {
          "output_type": "stream",
          "name": "stdout",
          "text": [
            "Original:  b'Edward Burtynsky is a Canadian photographer who makes art out of the least \"artful\" objects imaginable. Everyday items such as crates, boxes, metal containers, etc. - items which most of us perceive as utilitarian at best and dismiss as being utterly without aesthetic merit - are instead converted into glorious objects d\\'art by Burtynsky\\'s camera. He achieves this result by focusing on the recurring colors and geometric patterns that are apparently ever present in the industrialized world - for those perceptive enough to spot them, that is. Even heaps of compacted trash can become objects of beauty when seen through Burtynsky\\'s lens (but didn\\'t we already know that from \"Wall-E\"?). He is particularly interested in photographing areas like mines and shipyards where Man has already made incursions into nature - which may explain why at times even the people in his pictures (i.e. the workers in those places), with their uniform clothing and robotic movements, become part of the industrial landscape.<br /><br />\"Manufactured Landscapes,\" a documentary about Burtynsky\\'s work, has much of the feel of a \"Koyaanisqatsi\" about it as it dazzles us with its richly variegated kaleidoscope of images and patterns. Indeed, director Jennifer Baichwal and cinematographer Peter Mettler capture the essence of the original photos in purely cinematic terms, as their own camera records Burtynsky and his assistant running photo shoots at a factory in China, a dockyard in Bangladesh, and the construction site at the massive Three Rivers Gorge Dam project in China. With their fluid camera-work, the filmmakers match point-for-point the beauty of Burtynsky\\'s images. In fact, the movie opens with a stunning eight-minute-long tracking shot of a Chinese factory in which hundreds of similarly dressed workers toil away in perfectly symmetrical and color-coordinated rows.<br /><br />The movie does less well when Burtynsky gets around to articulating the \"themes\" of his work, which, quite frankly, come out sounding confused, contradictory and decidedly half-baked at best. But it is as a purely aesthetic experience, highlighting image and form, that \"Manufactured Landscapes\" resonates most. In the case of Burtynsky, perhaps, a picture really IS worth a thousand words.'\n",
            "Round-trip:  [UNK] [UNK] is a [UNK] [UNK] who makes art out of the least [UNK] [UNK] [UNK] [UNK] [UNK] such as [UNK] [UNK] [UNK] [UNK] etc [UNK] which most of us [UNK] as [UNK] at best and [UNK] as being [UNK] without [UNK] [UNK] are instead [UNK] into [UNK] [UNK] [UNK] by [UNK] camera he [UNK] this result by [UNK] on the [UNK] [UNK] and [UNK] [UNK] that are apparently ever present in the [UNK] world for those [UNK] enough to [UNK] them that is even [UNK] of [UNK] [UNK] can become [UNK] of beauty when seen through [UNK] [UNK] but didnt we already know that from [UNK] he is particularly interested in [UNK] [UNK] like [UNK] and [UNK] where man has already made [UNK] into nature which may [UNK] why at times even the people in his [UNK] [UNK] the [UNK] in those [UNK] with their [UNK] [UNK] and [UNK] [UNK] become part of the [UNK] [UNK] br [UNK] [UNK] a documentary about [UNK] work has much of the feel of a [UNK] about it as it [UNK] us with its [UNK] [UNK] [UNK] of [UNK] and [UNK] indeed director [UNK] [UNK] and [UNK] peter [UNK] [UNK] the [UNK] of the original [UNK] in [UNK] [UNK] [UNK] as their own camera [UNK] [UNK] and his [UNK] running [UNK] [UNK] at a [UNK] in [UNK] a [UNK] in [UNK] and the [UNK] [UNK] at the [UNK] three [UNK] [UNK] [UNK] [UNK] in [UNK] with their [UNK] [UNK] the filmmakers [UNK] [UNK] the beauty of [UNK] [UNK] in fact the movie [UNK] with a [UNK] [UNK] [UNK] shot of a [UNK] [UNK] in which [UNK] of [UNK] [UNK] [UNK] [UNK] away in perfectly [UNK] and [UNK] [UNK] br the movie does less well when [UNK] gets around to [UNK] the [UNK] of his work which quite [UNK] come out [UNK] [UNK] [UNK] and [UNK] [UNK] at best but it is as a [UNK] [UNK] experience [UNK] [UNK] and form that [UNK] [UNK] [UNK] most in the case of [UNK] perhaps a picture really is worth a [UNK] words                                                                                                                                                                                                                                                                                                                                                                                                                                                                                                                                                                                                                                                          \n",
            "\n",
            "Original:  b\"In 1943, a group of RAF Officers, including Eric Wiiliams, decide to escape from a POW camp using a Gymnastic Vaulting Horse in the courtyard. In 1950, it was decided to film his account, and it kick-started a peculiar British Film Genre- the Military Prison Camp story that reached its apogee in Danger Within (1959).<br /><br />The Wooden Horse is one of the quietest films I have ever watched. There are no great dramatic moments, but a steady storyline eventually builds to a climax that has more tension because the story doesn't give way for unlikely drama, jump cuts or jacked up (somethings about to happen!) music. It is utterly of its time and works beautifully.<br /><br />Leo Glenn, Anthony Steel and David Tomlinson lead a curiously low key cast of extras and (I suspect) non-actors. Without exception, all are constantly mono-tonal and quiet. They keep emotion out of their roles. As so many were, until recently, ex-service, I suspect they recreated their war time roles as 'Officers and Gentlemen'.<br /><br />This unemotional approach does not detract from any dramatic tension. On the contrary, unlike most Wartime Escape Films, the story doesn't end at the barbed wire: and that fact alone keeps me glued to the end.\"\n",
            "Round-trip:  in [UNK] a group of [UNK] [UNK] including [UNK] [UNK] [UNK] to [UNK] from a [UNK] [UNK] using a [UNK] [UNK] [UNK] in the [UNK] in [UNK] it was decided to film his [UNK] and it [UNK] a [UNK] british film genre the [UNK] [UNK] [UNK] story that [UNK] its [UNK] in [UNK] within [UNK] br the [UNK] [UNK] is one of the [UNK] films i have ever watched there are no great dramatic moments but a [UNK] storyline eventually [UNK] to a [UNK] that has more [UNK] because the story doesnt give way for [UNK] drama [UNK] [UNK] or [UNK] up [UNK] about to happen music it is [UNK] of its time and works [UNK] br [UNK] [UNK] [UNK] [UNK] and david [UNK] lead a [UNK] low [UNK] cast of [UNK] and i [UNK] [UNK] without [UNK] all are [UNK] [UNK] and [UNK] they keep [UNK] out of their roles as so many were until [UNK] [UNK] i [UNK] they [UNK] their war time roles as [UNK] and [UNK] br this [UNK] [UNK] does not [UNK] from any dramatic [UNK] on the [UNK] unlike most [UNK] [UNK] films the story doesnt end at the [UNK] [UNK] and that fact alone keeps me [UNK] to the end                                                                                                                                                                                                                                                                                                                                                                                                                                                                                                                                                                                                                                                                                                                                                                                                     \n",
            "\n",
            "Original:  b'When watching little man , you\\'ll spend its running time trying to figure out its many plot holes . And thats not a good sign because this film is supposed to be a comedy ! Your supposed to be laughing at it !! But will you ? Probably not. <br /><br />The main problem with little man is its concept- its far too ridiculous to accept (even as a cartoonish comedy ), so when the loud , laboured and over the top jokes kick in , they make the whole thing seem ten times stupider than it already is.<br /><br />\"But its a comedy \" some of you might be screaming. Thats true but thats no excuse for such a dumb plot.I mean come on , think about it if you saw a baby with A GROWN MANS FACE , wouldn\\'t you be the least bit suspicious? And if calvin wanted to hide the diamond so badly, why didn\\'t he put it in a nearby shelf instead of a random womans hand bag? And how can a qualified doctor NOT recognise that calvin is a grown man ? i mean seriously...what ? <br /><br />\"Its not about the plot , its about the laughs\" you might be screaming . Well heres the thing see, there are hardly any laughs in little man and that just make the dumb ass plot stand out all the more. <br /><br />If you really want to watch a wayans brothers comedy with a belief suspending plot, stick to white chicks because at least that had a few decent laughs.What ever you do steer clear of little man.'\n",
            "Round-trip:  when watching little man youll [UNK] its running time trying to figure out its many plot [UNK] and thats not a good [UNK] because this film is supposed to be a comedy your supposed to be [UNK] at it but will you probably not br br the main problem with little man is its [UNK] its far too ridiculous to [UNK] even as a [UNK] comedy so when the [UNK] [UNK] and over the top jokes [UNK] in they make the whole thing seem ten times [UNK] than it already [UNK] br but its a comedy some of you might be [UNK] thats true but thats no [UNK] for such a dumb [UNK] mean come on think about it if you saw a baby with a [UNK] [UNK] face wouldnt you be the least bit [UNK] and if [UNK] wanted to [UNK] the [UNK] so badly why didnt he put it in a [UNK] [UNK] instead of a [UNK] [UNK] hand [UNK] and how can a [UNK] [UNK] not [UNK] that [UNK] is a [UNK] man i mean [UNK] br br its not about the plot its about the laughs you might be [UNK] well [UNK] the thing see there are hardly any laughs in little man and that just make the dumb [UNK] plot stand out all the more br br if you really want to watch a [UNK] brothers comedy with a [UNK] [UNK] plot [UNK] to white [UNK] because at least that had a few decent [UNK] ever you do [UNK] clear of little man                                                                                                                                                                                                                                                                                                                                                                                                                                                                                                                                                                                                                                                                                                                                                  \n",
            "\n"
          ]
        }
      ]
    },
    {
      "cell_type": "markdown",
      "source": [
        "**Buat Model**"
      ],
      "metadata": {
        "id": "vBUmb3dQaWry"
      }
    },
    {
      "cell_type": "code",
      "source": [
        "model = tf.keras.Sequential([\n",
        "    encoder,\n",
        "    tf.keras.layers.Embedding(\n",
        "        input_dim=len(encoder.get_vocabulary()),\n",
        "        output_dim=64,\n",
        "        # Use masking to handle the variable sequence lengths\n",
        "        mask_zero=True),\n",
        "    tf.keras.layers.Bidirectional(tf.keras.layers.LSTM(64)),\n",
        "    tf.keras.layers.Dense(64, activation='relu'),\n",
        "    tf.keras.layers.Dense(1)\n",
        "])"
      ],
      "metadata": {
        "id": "9No2VwRYcYb6"
      },
      "execution_count": 10,
      "outputs": []
    },
    {
      "cell_type": "code",
      "source": [
        "print([layer.supports_masking for layer in model.layers])"
      ],
      "metadata": {
        "colab": {
          "base_uri": "https://localhost:8080/",
          "height": 0
        },
        "id": "inf4PaiDcZ_C",
        "outputId": "f896e781-8900-40db-daa9-1abb4c48ab93"
      },
      "execution_count": 11,
      "outputs": [
        {
          "output_type": "stream",
          "name": "stdout",
          "text": [
            "[False, True, True, True, True]\n"
          ]
        }
      ]
    },
    {
      "cell_type": "markdown",
      "source": [
        "Untuk memastikan bahwa ini berfungsi seperti yang diharapkan, evaluasi sebuah kalimat dua kali. Pertama, satu kalimat sehingga tidak ada bantalan (padding) untuk disamarkan:"
      ],
      "metadata": {
        "id": "XmLDkFhXc5bM"
      }
    },
    {
      "cell_type": "code",
      "source": [
        "# predict on a sample text without padding.\n",
        "\n",
        "sample_text = ('The movie was cool. The animation and the graphics '\n",
        "               'were out of this world. I would recommend this movie.')\n",
        "predictions = model.predict(np.array([sample_text]))\n",
        "print(predictions[0])"
      ],
      "metadata": {
        "colab": {
          "base_uri": "https://localhost:8080/",
          "height": 0
        },
        "id": "O7FGbK_1chgc",
        "outputId": "b071b826-d7ee-4048-af7f-3de7b861356c"
      },
      "execution_count": 12,
      "outputs": [
        {
          "output_type": "stream",
          "name": "stdout",
          "text": [
            "1/1 [==============================] - 8s 8s/step\n",
            "[0.00336567]\n"
          ]
        }
      ]
    },
    {
      "cell_type": "markdown",
      "source": [
        "Sekarang, evaluasi lagi dalam batch dengan kalimat yang lebih panjang. Hasilnya harus sama:"
      ],
      "metadata": {
        "id": "2q3dvosnc70j"
      }
    },
    {
      "cell_type": "code",
      "source": [
        "# predict on a sample text with padding\n",
        "\n",
        "padding = \"the \" * 2000\n",
        "predictions = model.predict(np.array([sample_text, padding]))\n",
        "print(predictions[0])"
      ],
      "metadata": {
        "colab": {
          "base_uri": "https://localhost:8080/",
          "height": 0
        },
        "id": "RQfIxCiLcu66",
        "outputId": "2c8d8a97-5118-4967-decc-7e9a1483a7bd"
      },
      "execution_count": 13,
      "outputs": [
        {
          "output_type": "stream",
          "name": "stdout",
          "text": [
            "1/1 [==============================] - 0s 60ms/step\n",
            "[0.00336567]\n"
          ]
        }
      ]
    },
    {
      "cell_type": "markdown",
      "source": [
        "compile model Keras untuk mengonfigurasi proses pelatihan:"
      ],
      "metadata": {
        "id": "3NWe4x-5c-yy"
      }
    },
    {
      "cell_type": "code",
      "source": [
        "model.compile(loss=tf.keras.losses.BinaryCrossentropy(from_logits=True),\n",
        "              optimizer=tf.keras.optimizers.Adam(1e-4),\n",
        "              metrics=['accuracy'])"
      ],
      "metadata": {
        "id": "_0eQtyOnc3ST"
      },
      "execution_count": 14,
      "outputs": []
    },
    {
      "cell_type": "markdown",
      "source": [
        "**Train Model**"
      ],
      "metadata": {
        "id": "FjkKz4XGaaPa"
      }
    },
    {
      "cell_type": "code",
      "source": [
        "history = model.fit(train_dataset, epochs=10,\n",
        "                    validation_data=test_dataset,\n",
        "                    validation_steps=30)"
      ],
      "metadata": {
        "colab": {
          "base_uri": "https://localhost:8080/",
          "height": 0
        },
        "id": "8j844gm2dfYu",
        "outputId": "3b709c71-de89-4bf7-c892-ef46d25b8e45"
      },
      "execution_count": 15,
      "outputs": [
        {
          "output_type": "stream",
          "name": "stdout",
          "text": [
            "Epoch 1/10\n",
            "391/391 [==============================] - 51s 103ms/step - loss: 0.6546 - accuracy: 0.5568 - val_loss: 0.5462 - val_accuracy: 0.6724\n",
            "Epoch 2/10\n",
            "391/391 [==============================] - 27s 68ms/step - loss: 0.4395 - accuracy: 0.7920 - val_loss: 0.4033 - val_accuracy: 0.8344\n",
            "Epoch 3/10\n",
            "391/391 [==============================] - 26s 66ms/step - loss: 0.3600 - accuracy: 0.8409 - val_loss: 0.3554 - val_accuracy: 0.8448\n",
            "Epoch 4/10\n",
            "391/391 [==============================] - 25s 64ms/step - loss: 0.3324 - accuracy: 0.8570 - val_loss: 0.3397 - val_accuracy: 0.8464\n",
            "Epoch 5/10\n",
            "391/391 [==============================] - 24s 62ms/step - loss: 0.3163 - accuracy: 0.8671 - val_loss: 0.3287 - val_accuracy: 0.8562\n",
            "Epoch 6/10\n",
            "391/391 [==============================] - 24s 61ms/step - loss: 0.3085 - accuracy: 0.8692 - val_loss: 0.3263 - val_accuracy: 0.8620\n",
            "Epoch 7/10\n",
            "391/391 [==============================] - 24s 61ms/step - loss: 0.3034 - accuracy: 0.8725 - val_loss: 0.3245 - val_accuracy: 0.8589\n",
            "Epoch 8/10\n",
            "391/391 [==============================] - 24s 61ms/step - loss: 0.2999 - accuracy: 0.8734 - val_loss: 0.3243 - val_accuracy: 0.8615\n",
            "Epoch 9/10\n",
            "391/391 [==============================] - 25s 63ms/step - loss: 0.2993 - accuracy: 0.8716 - val_loss: 0.3420 - val_accuracy: 0.8589\n",
            "Epoch 10/10\n",
            "391/391 [==============================] - 24s 62ms/step - loss: 0.2963 - accuracy: 0.8756 - val_loss: 0.3209 - val_accuracy: 0.8609\n"
          ]
        }
      ]
    },
    {
      "cell_type": "code",
      "source": [
        "test_loss, test_acc = model.evaluate(test_dataset)\n",
        "\n",
        "print('Test Loss:', test_loss)\n",
        "print('Test Accuracy:', test_acc)"
      ],
      "metadata": {
        "colab": {
          "base_uri": "https://localhost:8080/",
          "height": 0
        },
        "id": "zjqOmVUHdmb7",
        "outputId": "41666385-552c-4597-a2d5-739aed21937c"
      },
      "execution_count": 16,
      "outputs": [
        {
          "output_type": "stream",
          "name": "stdout",
          "text": [
            "391/391 [==============================] - 12s 30ms/step - loss: 0.3143 - accuracy: 0.8635\n",
            "Test Loss: 0.3142513930797577\n",
            "Test Accuracy: 0.8635200262069702\n"
          ]
        }
      ]
    },
    {
      "cell_type": "code",
      "source": [
        "plt.figure(figsize=(16, 8))\n",
        "plt.subplot(1, 2, 1)\n",
        "plot_graphs(history, 'accuracy')\n",
        "plt.ylim(None, 1)\n",
        "plt.subplot(1, 2, 2)\n",
        "plot_graphs(history, 'loss')\n",
        "plt.ylim(0, None)"
      ],
      "metadata": {
        "colab": {
          "base_uri": "https://localhost:8080/",
          "height": 719
        },
        "id": "SHAOfPT8dn6K",
        "outputId": "8d12d54f-3121-415e-9fff-0937e341b515"
      },
      "execution_count": 17,
      "outputs": [
        {
          "output_type": "execute_result",
          "data": {
            "text/plain": [
              "(0.0, 0.6724949419498444)"
            ]
          },
          "metadata": {},
          "execution_count": 17
        },
        {
          "output_type": "display_data",
          "data": {
            "text/plain": [
              "<Figure size 1600x800 with 2 Axes>"
            ],
            "image/png": "[encoded data removed]"
          },
          "metadata": {}
        }
      ]
    },
    {
      "cell_type": "markdown",
      "source": [
        "Jalankan prediksi pada kalimat baru:\n",
        "Jika prediksi >= 0,0 berarti positif, jika tidak maka negatif"
      ],
      "metadata": {
        "id": "TruWtrJpdr6G"
      }
    },
    {
      "cell_type": "code",
      "source": [
        "sample_text = ('The movie was cool. The animation and the graphics '\n",
        "                'were out of this world. I would recommend this movie.')\n",
        "predictions = model.predict(np.array([sample_text]))"
      ],
      "metadata": {
        "colab": {
          "base_uri": "https://localhost:8080/",
          "height": 0
        },
        "id": "cl92AMFods_6",
        "outputId": "9b67c6db-9b60-4432-d4b5-cd5e76f641cf"
      },
      "execution_count": 18,
      "outputs": [
        {
          "output_type": "stream",
          "name": "stdout",
          "text": [
            "1/1 [==============================] - 3s 3s/step\n"
          ]
        }
      ]
    },
    {
      "cell_type": "markdown",
      "source": [
        "**Stack two or more LSTM layers**"
      ],
      "metadata": {
        "id": "L2XrkwJlabPM"
      }
    },
    {
      "cell_type": "code",
      "execution_count": 19,
      "metadata": {
        "id": "o-r-P4kLZ5eB"
      },
      "outputs": [],
      "source": [
        "model = tf.keras.Sequential([\n",
        "    encoder,\n",
        "    tf.keras.layers.Embedding(len(encoder.get_vocabulary()), 64, mask_zero=True),\n",
        "    tf.keras.layers.Bidirectional(tf.keras.layers.LSTM(64,  return_sequences=True)),\n",
        "    tf.keras.layers.Bidirectional(tf.keras.layers.LSTM(32)),\n",
        "    tf.keras.layers.Dense(64, activation='relu'),\n",
        "    tf.keras.layers.Dropout(0.5),\n",
        "    tf.keras.layers.Dense(1)\n",
        "])"
      ]
    },
    {
      "cell_type": "code",
      "source": [
        "model.compile(loss=tf.keras.losses.BinaryCrossentropy(from_logits=True),\n",
        "              optimizer=tf.keras.optimizers.Adam(1e-4),\n",
        "              metrics=['accuracy'])"
      ],
      "metadata": {
        "id": "dAcmGq2DepOX"
      },
      "execution_count": 20,
      "outputs": []
    },
    {
      "cell_type": "code",
      "source": [
        "history = model.fit(train_dataset, epochs=10,\n",
        "                    validation_data=test_dataset,\n",
        "                    validation_steps=30)"
      ],
      "metadata": {
        "colab": {
          "base_uri": "https://localhost:8080/",
          "height": 0
        },
        "id": "MJnEn_n5euo6",
        "outputId": "f8f39bf6-fd4f-483e-bc8b-450c9488e642"
      },
      "execution_count": 21,
      "outputs": [
        {
          "output_type": "stream",
          "name": "stdout",
          "text": [
            "Epoch 1/10\n",
            "391/391 [==============================] - 78s 154ms/step - loss: 0.6433 - accuracy: 0.5648 - val_loss: 0.4544 - val_accuracy: 0.7911\n",
            "Epoch 2/10\n",
            "391/391 [==============================] - 46s 118ms/step - loss: 0.3934 - accuracy: 0.8234 - val_loss: 0.3661 - val_accuracy: 0.8281\n",
            "Epoch 3/10\n",
            "391/391 [==============================] - 44s 113ms/step - loss: 0.3394 - accuracy: 0.8538 - val_loss: 0.3427 - val_accuracy: 0.8432\n",
            "Epoch 4/10\n",
            "391/391 [==============================] - 46s 117ms/step - loss: 0.3211 - accuracy: 0.8628 - val_loss: 0.3253 - val_accuracy: 0.8573\n",
            "Epoch 5/10\n",
            "391/391 [==============================] - 47s 119ms/step - loss: 0.3161 - accuracy: 0.8652 - val_loss: 0.3230 - val_accuracy: 0.8589\n",
            "Epoch 6/10\n",
            "391/391 [==============================] - 48s 123ms/step - loss: 0.3074 - accuracy: 0.8697 - val_loss: 0.3181 - val_accuracy: 0.8578\n",
            "Epoch 7/10\n",
            "391/391 [==============================] - 48s 122ms/step - loss: 0.3024 - accuracy: 0.8690 - val_loss: 0.3256 - val_accuracy: 0.8552\n",
            "Epoch 8/10\n",
            "391/391 [==============================] - 49s 126ms/step - loss: 0.3038 - accuracy: 0.8692 - val_loss: 0.3208 - val_accuracy: 0.8630\n",
            "Epoch 9/10\n",
            "391/391 [==============================] - 53s 133ms/step - loss: 0.2975 - accuracy: 0.8726 - val_loss: 0.3359 - val_accuracy: 0.8630\n",
            "Epoch 10/10\n",
            "391/391 [==============================] - 47s 120ms/step - loss: 0.2980 - accuracy: 0.8717 - val_loss: 0.3266 - val_accuracy: 0.8479\n"
          ]
        }
      ]
    },
    {
      "cell_type": "code",
      "source": [
        "test_loss, test_acc = model.evaluate(test_dataset)\n",
        "\n",
        "print('Test Loss:', test_loss)\n",
        "print('Test Accuracy:', test_acc)"
      ],
      "metadata": {
        "id": "4srfJKjae0KS",
        "colab": {
          "base_uri": "https://localhost:8080/",
          "height": 0
        },
        "outputId": "eb42e98a-0b36-4a0a-f6cc-7bc1d9f4e4f1"
      },
      "execution_count": 22,
      "outputs": [
        {
          "output_type": "stream",
          "name": "stdout",
          "text": [
            "391/391 [==============================] - 19s 48ms/step - loss: 0.3213 - accuracy: 0.8528\n",
            "Test Loss: 0.3212982714176178\n",
            "Test Accuracy: 0.8528000116348267\n"
          ]
        }
      ]
    },
    {
      "cell_type": "code",
      "source": [
        "# predict on a sample text without padding.\n",
        "\n",
        "sample_text = ('The movie was not good. The animation and the graphics '\n",
        "               'were terrible. I would not recommend this movie.')\n",
        "predictions = model.predict(np.array([sample_text]))\n",
        "print(predictions)"
      ],
      "metadata": {
        "id": "mIWs4CRMe2Oz",
        "colab": {
          "base_uri": "https://localhost:8080/",
          "height": 0
        },
        "outputId": "e0358ac1-72cc-48d1-dfe7-9edd02b3f3e3"
      },
      "execution_count": 23,
      "outputs": [
        {
          "output_type": "stream",
          "name": "stdout",
          "text": [
            "1/1 [==============================] - 6s 6s/step\n",
            "[[-1.998014]]\n"
          ]
        }
      ]
    },
    {
      "cell_type": "code",
      "source": [
        "plt.figure(figsize=(16, 6))\n",
        "plt.subplot(1, 2, 1)\n",
        "plot_graphs(history, 'accuracy')\n",
        "plt.subplot(1, 2, 2)\n",
        "plot_graphs(history, 'loss')"
      ],
      "metadata": {
        "id": "tiPEonyoe7AC",
        "colab": {
          "base_uri": "https://localhost:8080/",
          "height": 542
        },
        "outputId": "9cd84295-6e13-4ab8-9430-cdd9a8550258"
      },
      "execution_count": 24,
      "outputs": [
        {
          "output_type": "display_data",
          "data": {
            "text/plain": [
              "<Figure size 1600x600 with 2 Axes>"
            ],
            "image/png": "[encoded data removed]"
          },
          "metadata": {}
        }
      ]
    },
    {
      "cell_type": "markdown",
      "source": [
        "# **PRAKTIKUM 2**\n"
      ],
      "metadata": {
        "id": "aXn-1pgr6Oz9"
      }
    },
    {
      "cell_type": "markdown",
      "source": [
        "**Setup**"
      ],
      "metadata": {
        "id": "JQwFvf3K6RaI"
      }
    },
    {
      "cell_type": "markdown",
      "source": [
        "Import TensorFlow"
      ],
      "metadata": {
        "id": "dbCdQ-M6TIUJ"
      }
    },
    {
      "cell_type": "code",
      "source": [
        "import tensorflow as tf\n",
        "import numpy as np\n",
        "import os\n",
        "import time"
      ],
      "metadata": {
        "id": "s4XMLPqRUviF"
      },
      "execution_count": 25,
      "outputs": []
    },
    {
      "cell_type": "markdown",
      "source": [
        "Download Dataset Shakespeare"
      ],
      "metadata": {
        "id": "sRsVeYD6TKGG"
      }
    },
    {
      "cell_type": "code",
      "source": [
        "path_to_file = tf.keras.utils.get_file('shakespeare.txt', 'https://storage.googleapis.com/download.tensorflow.org/data/shakespeare.txt')"
      ],
      "metadata": {
        "colab": {
          "base_uri": "https://localhost:8080/",
          "height": 0
        },
        "id": "siBgcVO7UwK2",
        "outputId": "7456516b-b1b3-4b3a-9679-f95f2338e6e4"
      },
      "execution_count": 31,
      "outputs": [
        {
          "output_type": "stream",
          "name": "stdout",
          "text": [
            "Downloading data from https://storage.googleapis.com/download.tensorflow.org/data/shakespeare.txt\n",
            "1115394/1115394 [==============================] - 0s 0us/step\n"
          ]
        }
      ]
    },
    {
      "cell_type": "markdown",
      "source": [
        "Load Data"
      ],
      "metadata": {
        "id": "JiWmpsAHTL8F"
      }
    },
    {
      "cell_type": "code",
      "source": [
        "# Read, then decode for py2 compat.\n",
        "text = open(path_to_file, 'rb').read().decode(encoding='utf-8')\n",
        "# length of text is the number of characters in it\n",
        "print(f'Length of text: {len(text)} characters')"
      ],
      "metadata": {
        "colab": {
          "base_uri": "https://localhost:8080/",
          "height": 0
        },
        "id": "amN6PL70UyTe",
        "outputId": "8f5ceabe-959d-46d2-896d-f16fba6aae88"
      },
      "execution_count": 32,
      "outputs": [
        {
          "output_type": "stream",
          "name": "stdout",
          "text": [
            "Length of text: 1115394 characters\n"
          ]
        }
      ]
    },
    {
      "cell_type": "code",
      "source": [
        "# Take a look at the first 250 characters in text\n",
        "print(text[:250])"
      ],
      "metadata": {
        "colab": {
          "base_uri": "https://localhost:8080/",
          "height": 0
        },
        "id": "NgTdwXiWU0yf",
        "outputId": "1e9e3aff-e194-42cb-9d93-f90961cda0fd"
      },
      "execution_count": 33,
      "outputs": [
        {
          "output_type": "stream",
          "name": "stdout",
          "text": [
            "First Citizen:\n",
            "Before we proceed any further, hear me speak.\n",
            "\n",
            "All:\n",
            "Speak, speak.\n",
            "\n",
            "First Citizen:\n",
            "You are all resolved rather to die than to famish?\n",
            "\n",
            "All:\n",
            "Resolved. resolved.\n",
            "\n",
            "First Citizen:\n",
            "First, you know Caius Marcius is chief enemy to the people.\n",
            "\n"
          ]
        }
      ]
    },
    {
      "cell_type": "code",
      "source": [
        "# The unique characters in the file\n",
        "vocab = sorted(set(text))\n",
        "print(f'{len(vocab)} unique characters')"
      ],
      "metadata": {
        "colab": {
          "base_uri": "https://localhost:8080/",
          "height": 0
        },
        "id": "6_VoE71jU2fc",
        "outputId": "43d8cd80-3f29-4e22-8a01-58a41ceea1bb"
      },
      "execution_count": 34,
      "outputs": [
        {
          "output_type": "stream",
          "name": "stdout",
          "text": [
            "65 unique characters\n"
          ]
        }
      ]
    },
    {
      "cell_type": "markdown",
      "source": [
        "**Olah Teks**"
      ],
      "metadata": {
        "id": "uEkQTiXqTNbN"
      }
    },
    {
      "cell_type": "markdown",
      "source": [
        "Vectorize Teks"
      ],
      "metadata": {
        "id": "iQkbx1LiTPf7"
      }
    },
    {
      "cell_type": "code",
      "source": [
        "example_texts = ['abcdefg', 'xyz']\n",
        "chars = tf.strings.unicode_split(example_texts, input_encoding='UTF-8')\n",
        "chars"
      ],
      "metadata": {
        "colab": {
          "base_uri": "https://localhost:8080/",
          "height": 0
        },
        "id": "H8z44TXFU3YO",
        "outputId": "8d5d0b39-4534-4e4b-e3af-55ff5dd659c8"
      },
      "execution_count": 35,
      "outputs": [
        {
          "output_type": "execute_result",
          "data": {
            "text/plain": [
              "<tf.RaggedTensor [[b'a', b'b', b'c', b'd', b'e', b'f', b'g'], [b'x', b'y', b'z']]>"
            ]
          },
          "metadata": {},
          "execution_count": 35
        }
      ]
    },
    {
      "cell_type": "code",
      "source": [
        "# sekarang buat tf.keras.layers.StringLookup layer:\n",
        "ids_from_chars = tf.keras.layers.StringLookup(\n",
        "vocabulary=list(vocab), mask_token=None)"
      ],
      "metadata": {
        "id": "gavu8pEUU_Cl"
      },
      "execution_count": 36,
      "outputs": []
    },
    {
      "cell_type": "code",
      "source": [
        "ids = ids_from_chars(chars)\n",
        "ids"
      ],
      "metadata": {
        "colab": {
          "base_uri": "https://localhost:8080/",
          "height": 0
        },
        "id": "UvrveYvrVmyg",
        "outputId": "66f79f41-ef2c-48b2-f395-c1a946cecc7f"
      },
      "execution_count": 37,
      "outputs": [
        {
          "output_type": "execute_result",
          "data": {
            "text/plain": [
              "<tf.RaggedTensor [[40, 41, 42, 43, 44, 45, 46], [63, 64, 65]]>"
            ]
          },
          "metadata": {},
          "execution_count": 37
        }
      ]
    },
    {
      "cell_type": "code",
      "source": [
        "chars_from_ids = tf.keras.layers.StringLookup(\n",
        "    vocabulary=ids_from_chars.get_vocabulary(), invert=True, mask_token=None)"
      ],
      "metadata": {
        "id": "s1MMIuXSVuI9"
      },
      "execution_count": 38,
      "outputs": []
    },
    {
      "cell_type": "code",
      "source": [
        "chars = chars_from_ids(ids)\n",
        "chars"
      ],
      "metadata": {
        "colab": {
          "base_uri": "https://localhost:8080/",
          "height": 0
        },
        "id": "Jx7gwiWUVwLZ",
        "outputId": "5ca7b643-54b5-4a51-e3f0-8b6d47ceea55"
      },
      "execution_count": 39,
      "outputs": [
        {
          "output_type": "execute_result",
          "data": {
            "text/plain": [
              "<tf.RaggedTensor [[b'a', b'b', b'c', b'd', b'e', b'f', b'g'], [b'x', b'y', b'z']]>"
            ]
          },
          "metadata": {},
          "execution_count": 39
        }
      ]
    },
    {
      "cell_type": "code",
      "source": [
        "tf.strings.reduce_join(chars, axis=-1).numpy()"
      ],
      "metadata": {
        "colab": {
          "base_uri": "https://localhost:8080/",
          "height": 0
        },
        "id": "rxSXZQHjV0nA",
        "outputId": "eb63e3fc-0e4d-465b-a398-3f36e8dfbeaf"
      },
      "execution_count": 40,
      "outputs": [
        {
          "output_type": "execute_result",
          "data": {
            "text/plain": [
              "array([b'abcdefg', b'xyz'], dtype=object)"
            ]
          },
          "metadata": {},
          "execution_count": 40
        }
      ]
    },
    {
      "cell_type": "code",
      "source": [
        "def text_from_ids(ids):\n",
        "    return tf.strings.reduce_join(chars_from_ids(ids), axis=-1)"
      ],
      "metadata": {
        "id": "WLIJOHUsV2K2"
      },
      "execution_count": 41,
      "outputs": []
    },
    {
      "cell_type": "markdown",
      "source": [
        "Prediksi, Membuat Trianing Set dan Target"
      ],
      "metadata": {
        "id": "LZiL7WrvTXbB"
      }
    },
    {
      "cell_type": "code",
      "source": [
        "all_ids = ids_from_chars(tf.strings.unicode_split(text, 'UTF-8'))\n",
        "all_ids"
      ],
      "metadata": {
        "colab": {
          "base_uri": "https://localhost:8080/",
          "height": 0
        },
        "id": "xJr23JiQV8EF",
        "outputId": "513ca892-2c54-4e2c-cdae-e040d687997f"
      },
      "execution_count": 44,
      "outputs": [
        {
          "output_type": "execute_result",
          "data": {
            "text/plain": [
              "<tf.Tensor: shape=(1115394,), dtype=int64, numpy=array([19, 48, 57, ..., 46,  9,  1])>"
            ]
          },
          "metadata": {},
          "execution_count": 44
        }
      ]
    },
    {
      "cell_type": "code",
      "source": [
        "ids_dataset = tf.data.Dataset.from_tensor_slices(all_ids)"
      ],
      "metadata": {
        "id": "o-YUnTy0V-UR"
      },
      "execution_count": 45,
      "outputs": []
    },
    {
      "cell_type": "code",
      "source": [
        "for ids in ids_dataset.take(10):\n",
        "    print(chars_from_ids(ids).numpy().decode('utf-8'))"
      ],
      "metadata": {
        "colab": {
          "base_uri": "https://localhost:8080/",
          "height": 0
        },
        "id": "NpyS-PEBV_-W",
        "outputId": "d20b5620-6d17-4b94-bf18-9f2b87705f91"
      },
      "execution_count": 46,
      "outputs": [
        {
          "output_type": "stream",
          "name": "stdout",
          "text": [
            "F\n",
            "i\n",
            "r\n",
            "s\n",
            "t\n",
            " \n",
            "C\n",
            "i\n",
            "t\n",
            "i\n"
          ]
        }
      ]
    },
    {
      "cell_type": "code",
      "source": [
        "seq_length = 100"
      ],
      "metadata": {
        "id": "2pAQ6qsBWFdO"
      },
      "execution_count": 48,
      "outputs": []
    },
    {
      "cell_type": "code",
      "source": [
        "sequences = ids_dataset.batch(seq_length+1, drop_remainder=True)\n",
        "\n",
        "for seq in sequences.take(1):\n",
        "  print(chars_from_ids(seq))"
      ],
      "metadata": {
        "colab": {
          "base_uri": "https://localhost:8080/",
          "height": 0
        },
        "id": "2Wjf0zUdWIE1",
        "outputId": "7aec8f5c-f64a-411d-81d7-690b2da39c05"
      },
      "execution_count": 49,
      "outputs": [
        {
          "output_type": "stream",
          "name": "stdout",
          "text": [
            "tf.Tensor(\n",
            "[b'F' b'i' b'r' b's' b't' b' ' b'C' b'i' b't' b'i' b'z' b'e' b'n' b':'\n",
            " b'\\n' b'B' b'e' b'f' b'o' b'r' b'e' b' ' b'w' b'e' b' ' b'p' b'r' b'o'\n",
            " b'c' b'e' b'e' b'd' b' ' b'a' b'n' b'y' b' ' b'f' b'u' b'r' b't' b'h'\n",
            " b'e' b'r' b',' b' ' b'h' b'e' b'a' b'r' b' ' b'm' b'e' b' ' b's' b'p'\n",
            " b'e' b'a' b'k' b'.' b'\\n' b'\\n' b'A' b'l' b'l' b':' b'\\n' b'S' b'p' b'e'\n",
            " b'a' b'k' b',' b' ' b's' b'p' b'e' b'a' b'k' b'.' b'\\n' b'\\n' b'F' b'i'\n",
            " b'r' b's' b't' b' ' b'C' b'i' b't' b'i' b'z' b'e' b'n' b':' b'\\n' b'Y'\n",
            " b'o' b'u' b' '], shape=(101,), dtype=string)\n"
          ]
        }
      ]
    },
    {
      "cell_type": "code",
      "source": [
        "for seq in sequences.take(5):\n",
        "    print(text_from_ids(seq).numpy())"
      ],
      "metadata": {
        "colab": {
          "base_uri": "https://localhost:8080/",
          "height": 0
        },
        "id": "KM728oOYWJDw",
        "outputId": "4e27a4e9-366d-443b-a501-5675949853ae"
      },
      "execution_count": 50,
      "outputs": [
        {
          "output_type": "stream",
          "name": "stdout",
          "text": [
            "b'First Citizen:\\nBefore we proceed any further, hear me speak.\\n\\nAll:\\nSpeak, speak.\\n\\nFirst Citizen:\\nYou '\n",
            "b'are all resolved rather to die than to famish?\\n\\nAll:\\nResolved. resolved.\\n\\nFirst Citizen:\\nFirst, you k'\n",
            "b\"now Caius Marcius is chief enemy to the people.\\n\\nAll:\\nWe know't, we know't.\\n\\nFirst Citizen:\\nLet us ki\"\n",
            "b\"ll him, and we'll have corn at our own price.\\nIs't a verdict?\\n\\nAll:\\nNo more talking on't; let it be d\"\n",
            "b'one: away, away!\\n\\nSecond Citizen:\\nOne word, good citizens.\\n\\nFirst Citizen:\\nWe are accounted poor citi'\n"
          ]
        }
      ]
    },
    {
      "cell_type": "code",
      "source": [
        "def split_input_target(sequence):\n",
        "    input_text = sequence[:-1]\n",
        "    target_text = sequence[1:]\n",
        "    return input_text, target_text"
      ],
      "metadata": {
        "id": "OZtnEpuCWPWw"
      },
      "execution_count": 51,
      "outputs": []
    },
    {
      "cell_type": "code",
      "source": [
        "split_input_target(list(\"Tensorflow\"))"
      ],
      "metadata": {
        "colab": {
          "base_uri": "https://localhost:8080/",
          "height": 0
        },
        "id": "1JpwoDN-Wbup",
        "outputId": "bf547d0c-e97c-4c36-f02c-6a814fc2aaac"
      },
      "execution_count": 52,
      "outputs": [
        {
          "output_type": "execute_result",
          "data": {
            "text/plain": [
              "(['T', 'e', 'n', 's', 'o', 'r', 'f', 'l', 'o'],\n",
              " ['e', 'n', 's', 'o', 'r', 'f', 'l', 'o', 'w'])"
            ]
          },
          "metadata": {},
          "execution_count": 52
        }
      ]
    },
    {
      "cell_type": "code",
      "source": [
        "dataset = sequences.map(split_input_target)"
      ],
      "metadata": {
        "id": "7KDO2lRZWu_e"
      },
      "execution_count": 53,
      "outputs": []
    },
    {
      "cell_type": "code",
      "source": [
        "for input_example, target_example in dataset.take(1):\n",
        "    print(\"Input :\", text_from_ids(input_example).numpy())\n",
        "    print(\"Target:\", text_from_ids(target_example).numpy())"
      ],
      "metadata": {
        "colab": {
          "base_uri": "https://localhost:8080/",
          "height": 0
        },
        "id": "gykXyNESWx6N",
        "outputId": "cfd2995d-2302-4d30-ae90-c5729ec4c344"
      },
      "execution_count": 54,
      "outputs": [
        {
          "output_type": "stream",
          "name": "stdout",
          "text": [
            "Input : b'First Citizen:\\nBefore we proceed any further, hear me speak.\\n\\nAll:\\nSpeak, speak.\\n\\nFirst Citizen:\\nYou'\n",
            "Target: b'irst Citizen:\\nBefore we proceed any further, hear me speak.\\n\\nAll:\\nSpeak, speak.\\n\\nFirst Citizen:\\nYou '\n"
          ]
        }
      ]
    },
    {
      "cell_type": "markdown",
      "source": [
        "Membuat Batch Training"
      ],
      "metadata": {
        "id": "flF00_iSTsLW"
      }
    },
    {
      "cell_type": "code",
      "source": [
        "# Batch size\n",
        "BATCH_SIZE = 64\n",
        "\n",
        "# Buffer size to shuffle the dataset\n",
        "# (TF data is designed to work with possibly infinite sequences,\n",
        "# so it doesn't attempt to shuffle the entire sequence in memory. Instead,\n",
        "# it maintains a buffer in which it shuffles elements).\n",
        "BUFFER_SIZE = 10000\n",
        "\n",
        "dataset = (\n",
        "    dataset\n",
        "    .shuffle(BUFFER_SIZE)\n",
        "    .batch(BATCH_SIZE, drop_remainder=True)\n",
        "    .prefetch(tf.data.experimental.AUTOTUNE))\n",
        "\n",
        "dataset"
      ],
      "metadata": {
        "colab": {
          "base_uri": "https://localhost:8080/",
          "height": 0
        },
        "id": "5HRnsYunXFV5",
        "outputId": "6236d700-6b83-454a-de6f-75331c3c1617"
      },
      "execution_count": 55,
      "outputs": [
        {
          "output_type": "execute_result",
          "data": {
            "text/plain": [
              "<_PrefetchDataset element_spec=(TensorSpec(shape=(64, 100), dtype=tf.int64, name=None), TensorSpec(shape=(64, 100), dtype=tf.int64, name=None))>"
            ]
          },
          "metadata": {},
          "execution_count": 55
        }
      ]
    },
    {
      "cell_type": "markdown",
      "source": [
        "**Buat Model**"
      ],
      "metadata": {
        "id": "rWZnLa22Tuj9"
      }
    },
    {
      "cell_type": "markdown",
      "source": [
        "tf.keras.layers.Embedding: Lapisan masukan. Tabel pencarian yang dapat dilatih yang akan memetakan setiap karakter-ID ke vektor dengan dimensi embedding_dim;"
      ],
      "metadata": {
        "id": "MlENhF4ETw1V"
      }
    },
    {
      "cell_type": "code",
      "source": [
        "# Length of the vocabulary in StringLookup Layer\n",
        "vocab_size = len(ids_from_chars.get_vocabulary())\n",
        "\n",
        "# The embedding dimension\n",
        "embedding_dim = 256\n",
        "\n",
        "# Number of RNN units\n",
        "rnn_units = 1024"
      ],
      "metadata": {
        "id": "CDP0t9QEenR6"
      },
      "execution_count": 56,
      "outputs": []
    },
    {
      "cell_type": "markdown",
      "source": [
        "tf.keras.layers.GRU: lapisan RNN dengan ukuran unit=rnn_units (Anda juga dapat menggunakan lapisan LSTM di sini.)"
      ],
      "metadata": {
        "id": "aChOePyQT0yN"
      }
    },
    {
      "cell_type": "code",
      "source": [
        "class MyModel(tf.keras.Model):\n",
        "  def __init__(self, vocab_size, embedding_dim, rnn_units):\n",
        "    super().__init__(self)\n",
        "    self.embedding = tf.keras.layers.Embedding(vocab_size, embedding_dim)\n",
        "    self.gru = tf.keras.layers.GRU(rnn_units,\n",
        "                                   return_sequences=True,\n",
        "                                   return_state=True)\n",
        "    self.dense = tf.keras.layers.Dense(vocab_size)\n",
        "\n",
        "  def call(self, inputs, states=None, return_state=False, training=False):\n",
        "    x = inputs\n",
        "    x = self.embedding(x, training=training)\n",
        "    if states is None:\n",
        "      states = self.gru.get_initial_state(x)\n",
        "    x, states = self.gru(x, initial_state=states, training=training)\n",
        "    x = self.dense(x, training=training)\n",
        "\n",
        "    if return_state:\n",
        "      return x, states\n",
        "    else:\n",
        "      return x"
      ],
      "metadata": {
        "id": "lel5Uad1eooq"
      },
      "execution_count": 57,
      "outputs": []
    },
    {
      "cell_type": "markdown",
      "source": [
        "tf.keras.layers.Dense: Lapisan keluaran, dengan keluaran vocab_size. Ini menghasilkan satu logit untuk setiap karakter dalam kosakata. Ini adalah log kemungkinan setiap karakter menurut model."
      ],
      "metadata": {
        "id": "jiroLRszT3EO"
      }
    },
    {
      "cell_type": "code",
      "source": [
        "model = MyModel(\n",
        "    vocab_size=vocab_size,\n",
        "    embedding_dim=embedding_dim,\n",
        "    rnn_units=rnn_units)"
      ],
      "metadata": {
        "id": "HFZUzmueerfd"
      },
      "execution_count": 58,
      "outputs": []
    },
    {
      "cell_type": "markdown",
      "source": [
        "**Uji Model**"
      ],
      "metadata": {
        "id": "kpf-8gC3T5NU"
      }
    },
    {
      "cell_type": "markdown",
      "source": [
        "Cek bentuk dari output"
      ],
      "metadata": {
        "id": "DR1rA2pxT7JM"
      }
    },
    {
      "cell_type": "code",
      "source": [
        "for input_example_batch, target_example_batch in dataset.take(1):\n",
        "    example_batch_predictions = model(input_example_batch)\n",
        "    print(example_batch_predictions.shape, \"# (batch_size, sequence_length, vocab_size)\")"
      ],
      "metadata": {
        "colab": {
          "base_uri": "https://localhost:8080/",
          "height": 0
        },
        "id": "rQlxRi2YfL3I",
        "outputId": "52f53b57-d19d-4057-85ef-25ab44f1fb0c"
      },
      "execution_count": 59,
      "outputs": [
        {
          "output_type": "stream",
          "name": "stdout",
          "text": [
            "(64, 100, 66) # (batch_size, sequence_length, vocab_size)\n"
          ]
        }
      ]
    },
    {
      "cell_type": "markdown",
      "source": [
        "Masukan dengan panjang berapa pun"
      ],
      "metadata": {
        "id": "D295E_LKUAmq"
      }
    },
    {
      "cell_type": "code",
      "source": [
        "model.summary()"
      ],
      "metadata": {
        "colab": {
          "base_uri": "https://localhost:8080/",
          "height": 0
        },
        "id": "87A36b08fSn3",
        "outputId": "25f5ba10-80c1-4fb6-9a02-8362e3fd9cab"
      },
      "execution_count": 60,
      "outputs": [
        {
          "output_type": "stream",
          "name": "stdout",
          "text": [
            "Model: \"my_model\"\n",
            "_________________________________________________________________\n",
            " Layer (type)                Output Shape              Param #   \n",
            "=================================================================\n",
            " embedding_2 (Embedding)     multiple                  16896     \n",
            "                                                                 \n",
            " gru (GRU)                   multiple                  3938304   \n",
            "                                                                 \n",
            " dense_4 (Dense)             multiple                  67650     \n",
            "                                                                 \n",
            "=================================================================\n",
            "Total params: 4022850 (15.35 MB)\n",
            "Trainable params: 4022850 (15.35 MB)\n",
            "Non-trainable params: 0 (0.00 Byte)\n",
            "_________________________________________________________________\n"
          ]
        }
      ]
    },
    {
      "cell_type": "markdown",
      "source": [
        "Mengambil sampel dari distribusi keluaran"
      ],
      "metadata": {
        "id": "W7ThwfNBUCgE"
      }
    },
    {
      "cell_type": "code",
      "source": [
        "sampled_indices = tf.random.categorical(example_batch_predictions[0], num_samples=1)\n",
        "sampled_indices = tf.squeeze(sampled_indices, axis=-1).numpy()"
      ],
      "metadata": {
        "id": "nzk26TUPfT2O"
      },
      "execution_count": 61,
      "outputs": []
    },
    {
      "cell_type": "markdown",
      "source": [
        "Prediksi indeks karakter berikutnya"
      ],
      "metadata": {
        "id": "y4UUtt_jUEMY"
      }
    },
    {
      "cell_type": "code",
      "source": [
        "sampled_indices"
      ],
      "metadata": {
        "colab": {
          "base_uri": "https://localhost:8080/",
          "height": 0
        },
        "id": "jEhBaMo7fp-I",
        "outputId": "ad9007cb-72ed-4d09-b452-347d1c04decd"
      },
      "execution_count": 62,
      "outputs": [
        {
          "output_type": "execute_result",
          "data": {
            "text/plain": [
              "array([52, 30, 48, 47, 19,  4, 18, 53, 25, 63, 61, 61, 44, 61, 21, 18, 32,\n",
              "       59, 30, 58, 41, 18, 11, 29, 38,  6, 53, 22, 38, 26, 52, 16, 43, 53,\n",
              "        1, 28, 11, 59, 54, 42, 12, 29, 22, 62, 43, 11, 10,  0,  6, 31, 37,\n",
              "        3,  3, 40, 19, 36, 32, 65, 20, 30, 45, 37, 38, 36,  1, 30, 15, 10,\n",
              "       25, 16, 65, 14, 45, 13, 51, 50, 31, 34, 20, 62, 13, 53, 62, 50, 24,\n",
              "       64, 27, 19, 41, 12, 31, 45,  6, 38, 40,  7, 28, 50, 19, 37])"
            ]
          },
          "metadata": {},
          "execution_count": 62
        }
      ]
    },
    {
      "cell_type": "markdown",
      "source": [
        "Melihat teks yang diprediksi oleh model tidak terlatih ini"
      ],
      "metadata": {
        "id": "tx3VfpB0UF3o"
      }
    },
    {
      "cell_type": "code",
      "source": [
        "print(\"Input:\\n\", text_from_ids(input_example_batch[0]).numpy())\n",
        "print()\n",
        "print(\"Next Char Predictions:\\n\", text_from_ids(sampled_indices).numpy())"
      ],
      "metadata": {
        "colab": {
          "base_uri": "https://localhost:8080/",
          "height": 0
        },
        "id": "cZPGMgLNft9Y",
        "outputId": "47bd9e57-fd04-491c-fa27-b0a01970cbf0"
      },
      "execution_count": 63,
      "outputs": [
        {
          "output_type": "stream",
          "name": "stdout",
          "text": [
            "Input:\n",
            " b\" hath press'd\\nTo lift shrewd steel against our golden crown,\\nGod for his Richard hath in heavenly pa\"\n",
            "\n",
            "Next Char Predictions:\n",
            " b\"mQihF$EnLxvvevHEStQsbE:PY'nIYMmCdn\\nO:toc;PIwd:3[UNK]'RX!!aFWSzGQfXYW\\nQB3LCzAf?lkRUGw?nwkKyNFb;Rf'Ya,OkFX\"\n"
          ]
        }
      ]
    },
    {
      "cell_type": "markdown",
      "source": [
        "**Train Model**"
      ],
      "metadata": {
        "id": "BCw7i03-UHT9"
      }
    },
    {
      "cell_type": "markdown",
      "source": [
        "Tambahan optimizer dan fungsi loss"
      ],
      "metadata": {
        "id": "jWx2ZATbUMSN"
      }
    },
    {
      "cell_type": "code",
      "source": [
        "loss = tf.losses.SparseCategoricalCrossentropy(from_logits=True)"
      ],
      "metadata": {
        "id": "zKk5Zt5TgQD5"
      },
      "execution_count": 64,
      "outputs": []
    },
    {
      "cell_type": "code",
      "source": [
        "example_batch_mean_loss = loss(target_example_batch, example_batch_predictions)\n",
        "print(\"Prediction shape: \", example_batch_predictions.shape, \" # (batch_size, sequence_length, vocab_size)\")\n",
        "print(\"Mean loss:        \", example_batch_mean_loss)"
      ],
      "metadata": {
        "colab": {
          "base_uri": "https://localhost:8080/",
          "height": 0
        },
        "id": "2fQZvNaagSR1",
        "outputId": "d490aea4-d454-46eb-9ec0-0af29836b434"
      },
      "execution_count": 65,
      "outputs": [
        {
          "output_type": "stream",
          "name": "stdout",
          "text": [
            "Prediction shape:  (64, 100, 66)  # (batch_size, sequence_length, vocab_size)\n",
            "Mean loss:         tf.Tensor(4.187448, shape=(), dtype=float32)\n"
          ]
        }
      ]
    },
    {
      "cell_type": "code",
      "source": [
        "tf.exp(example_batch_mean_loss).numpy()"
      ],
      "metadata": {
        "colab": {
          "base_uri": "https://localhost:8080/",
          "height": 0
        },
        "id": "HCBOlWBJgzI8",
        "outputId": "168e9db9-ec9d-491e-8b44-0183ecceb9f6"
      },
      "execution_count": 66,
      "outputs": [
        {
          "output_type": "execute_result",
          "data": {
            "text/plain": [
              "65.854515"
            ]
          },
          "metadata": {},
          "execution_count": 66
        }
      ]
    },
    {
      "cell_type": "code",
      "source": [
        "model.compile(optimizer='adam', loss=loss)"
      ],
      "metadata": {
        "id": "dMgJTfgmg0j3"
      },
      "execution_count": 68,
      "outputs": []
    },
    {
      "cell_type": "markdown",
      "source": [
        "Konfigurasi Checkpoints"
      ],
      "metadata": {
        "id": "bzoP4IMnUOb6"
      }
    },
    {
      "cell_type": "code",
      "source": [
        "# Directory where the checkpoints will be saved\n",
        "checkpoint_dir = './training_checkpoints'\n",
        "# Name of the checkpoint files\n",
        "checkpoint_prefix = os.path.join(checkpoint_dir, \"ckpt_{epoch}\")\n",
        "\n",
        "checkpoint_callback = tf.keras.callbacks.ModelCheckpoint(\n",
        "    filepath=checkpoint_prefix,\n",
        "    save_weights_only=True)"
      ],
      "metadata": {
        "id": "wxgJGzgThAMq"
      },
      "execution_count": 69,
      "outputs": []
    },
    {
      "cell_type": "markdown",
      "source": [
        "Lakukan Proses Training"
      ],
      "metadata": {
        "id": "a6uaJ3EjUP-N"
      }
    },
    {
      "cell_type": "code",
      "source": [
        "EPOCHS = 20"
      ],
      "metadata": {
        "id": "g3rBmhLihB9K"
      },
      "execution_count": 70,
      "outputs": []
    },
    {
      "cell_type": "code",
      "source": [
        "history = model.fit(dataset, epochs=EPOCHS, callbacks=[checkpoint_callback])"
      ],
      "metadata": {
        "colab": {
          "base_uri": "https://localhost:8080/",
          "height": 0
        },
        "id": "pjA0EkeqhEqb",
        "outputId": "d6752844-df8d-47e7-9ce8-c462c4f894cf"
      },
      "execution_count": 71,
      "outputs": [
        {
          "output_type": "stream",
          "name": "stdout",
          "text": [
            "Epoch 1/20\n",
            "172/172 [==============================] - 16s 59ms/step - loss: 2.6854\n",
            "Epoch 2/20\n",
            "172/172 [==============================] - 12s 58ms/step - loss: 1.9643\n",
            "Epoch 3/20\n",
            "172/172 [==============================] - 12s 57ms/step - loss: 1.6883\n",
            "Epoch 4/20\n",
            "172/172 [==============================] - 13s 60ms/step - loss: 1.5305\n",
            "Epoch 5/20\n",
            "172/172 [==============================] - 14s 60ms/step - loss: 1.4344\n",
            "Epoch 6/20\n",
            "172/172 [==============================] - 13s 59ms/step - loss: 1.3675\n",
            "Epoch 7/20\n",
            "172/172 [==============================] - 12s 59ms/step - loss: 1.3154\n",
            "Epoch 8/20\n",
            "172/172 [==============================] - 12s 56ms/step - loss: 1.2695\n",
            "Epoch 9/20\n",
            "172/172 [==============================] - 13s 57ms/step - loss: 1.2290\n",
            "Epoch 10/20\n",
            "172/172 [==============================] - 13s 59ms/step - loss: 1.1879\n",
            "Epoch 11/20\n",
            "172/172 [==============================] - 11s 56ms/step - loss: 1.1478\n",
            "Epoch 12/20\n",
            "172/172 [==============================] - 11s 57ms/step - loss: 1.1055\n",
            "Epoch 13/20\n",
            "172/172 [==============================] - 12s 58ms/step - loss: 1.0601\n",
            "Epoch 14/20\n",
            "172/172 [==============================] - 12s 57ms/step - loss: 1.0132\n",
            "Epoch 15/20\n",
            "172/172 [==============================] - 11s 56ms/step - loss: 0.9645\n",
            "Epoch 16/20\n",
            "172/172 [==============================] - 12s 57ms/step - loss: 0.9123\n",
            "Epoch 17/20\n",
            "172/172 [==============================] - 12s 58ms/step - loss: 0.8599\n",
            "Epoch 18/20\n",
            "172/172 [==============================] - 12s 57ms/step - loss: 0.8111\n",
            "Epoch 19/20\n",
            "172/172 [==============================] - 12s 55ms/step - loss: 0.7612\n",
            "Epoch 20/20\n",
            "172/172 [==============================] - 11s 56ms/step - loss: 0.7149\n"
          ]
        }
      ]
    },
    {
      "cell_type": "markdown",
      "source": [
        "**Generate Teks**"
      ],
      "metadata": {
        "id": "0t-fD5zvURU1"
      }
    },
    {
      "cell_type": "code",
      "source": [
        "class OneStep(tf.keras.Model):\n",
        "  def __init__(self, model, chars_from_ids, ids_from_chars, temperature=1.0):\n",
        "    super().__init__()\n",
        "    self.temperature = temperature\n",
        "    self.model = model\n",
        "    self.chars_from_ids = chars_from_ids\n",
        "    self.ids_from_chars = ids_from_chars\n",
        "\n",
        "    # Create a mask to prevent \"[UNK]\" from being generated.\n",
        "    skip_ids = self.ids_from_chars(['[UNK]'])[:, None]\n",
        "    sparse_mask = tf.SparseTensor(\n",
        "        # Put a -inf at each bad index.\n",
        "        values=[-float('inf')]*len(skip_ids),\n",
        "        indices=skip_ids,\n",
        "        # Match the shape to the vocabulary\n",
        "        dense_shape=[len(ids_from_chars.get_vocabulary())])\n",
        "    self.prediction_mask = tf.sparse.to_dense(sparse_mask)\n",
        "\n",
        "  @tf.function\n",
        "  def generate_one_step(self, inputs, states=None):\n",
        "    # Convert strings to token IDs.\n",
        "    input_chars = tf.strings.unicode_split(inputs, 'UTF-8')\n",
        "    input_ids = self.ids_from_chars(input_chars).to_tensor()\n",
        "\n",
        "    # Run the model.\n",
        "    # predicted_logits.shape is [batch, char, next_char_logits]\n",
        "    predicted_logits, states = self.model(inputs=input_ids, states=states,\n",
        "                                          return_state=True)\n",
        "    # Only use the last prediction.\n",
        "    predicted_logits = predicted_logits[:, -1, :]\n",
        "    predicted_logits = predicted_logits/self.temperature\n",
        "    # Apply the prediction mask: prevent \"[UNK]\" from being generated.\n",
        "    predicted_logits = predicted_logits + self.prediction_mask\n",
        "\n",
        "    # Sample the output logits to generate token IDs.\n",
        "    predicted_ids = tf.random.categorical(predicted_logits, num_samples=1)\n",
        "    predicted_ids = tf.squeeze(predicted_ids, axis=-1)\n",
        "\n",
        "    # Convert from token ids to characters\n",
        "    predicted_chars = self.chars_from_ids(predicted_ids)\n",
        "\n",
        "    # Return the characters and model state.\n",
        "    return predicted_chars, states"
      ],
      "metadata": {
        "id": "ESm8MWPghUEA"
      },
      "execution_count": 73,
      "outputs": []
    },
    {
      "cell_type": "code",
      "source": [
        "one_step_model = OneStep(model, chars_from_ids, ids_from_chars)"
      ],
      "metadata": {
        "id": "0I1A0ZFuhVrv"
      },
      "execution_count": 74,
      "outputs": []
    },
    {
      "cell_type": "code",
      "source": [
        "start = time.time()\n",
        "states = None\n",
        "next_char = tf.constant(['ROMEO:'])\n",
        "result = [next_char]\n",
        "\n",
        "for n in range(1000):\n",
        "  next_char, states = one_step_model.generate_one_step(next_char, states=states)\n",
        "  result.append(next_char)\n",
        "\n",
        "result = tf.strings.join(result)\n",
        "end = time.time()\n",
        "print(result[0].numpy().decode('utf-8'), '\\n\\n' + '_'*80)\n",
        "print('\\nRun time:', end - start)"
      ],
      "metadata": {
        "colab": {
          "base_uri": "https://localhost:8080/",
          "height": 0
        },
        "id": "Y1N7cFjhhalc",
        "outputId": "dac8ce57-4f9f-465e-bbb4-50ca96373ed7"
      },
      "execution_count": 75,
      "outputs": [
        {
          "output_type": "stream",
          "name": "stdout",
          "text": [
            "ROMEO:\n",
            "Not her held nor wall; if I talk not in heaven,\n",
            "As 'twere i' the stealing hooping lips and honour,\n",
            "And you the noble uncle, that will take this offence;\n",
            "Like potion. I say unto the seas\n",
            "Which in the enemy as to fick prayer about\n",
            "you.\n",
            "\n",
            "LEONTES:\n",
            "Would he die, and let them in the mode\n",
            "And straight able. Wherefore he can part in mine eyes!\n",
            "Is he not wonder? Now, dastening, peace,\n",
            "Plats cirit the simple garments Show,\n",
            "At their bed chastised he\n",
            "hard--you on your lasting wretches shall be, in heaven I'll keep\n",
            "Cutibing to pieces on the wormertain's wall obly his\n",
            "jecume: condemn it.\n",
            "\n",
            "LUCIO:\n",
            "And I thank you.\n",
            "\n",
            "LUCIO:\n",
            "I would true, may: this is no dalled son.\n",
            "See, so within! let us to the house of York.\n",
            "Now 'tis a sport in-labiant manage with me well\n",
            "persuade him to dive into his wood, and bring it yet.\n",
            "Mayst thou legs unto himself?\n",
            "\n",
            "LEONTES:\n",
            "Wouldst thou denied to Rome\n",
            "Thy tears are up, and privily each pawn\n",
            "The water and unfected lewds\n",
            "And sceptre what dispuble bloody bexasing weal,\n",
            "And therein \n",
            "\n",
            "________________________________________________________________________________\n",
            "\n",
            "Run time: 4.42087459564209\n"
          ]
        }
      ]
    },
    {
      "cell_type": "code",
      "source": [
        "start = time.time()\n",
        "states = None\n",
        "next_char = tf.constant(['ROMEO:', 'ROMEO:', 'ROMEO:', 'ROMEO:', 'ROMEO:'])\n",
        "result = [next_char]\n",
        "\n",
        "for n in range(1000):\n",
        "  next_char, states = one_step_model.generate_one_step(next_char, states=states)\n",
        "  result.append(next_char)\n",
        "\n",
        "result = tf.strings.join(result)\n",
        "end = time.time()\n",
        "print(result, '\\n\\n' + '_'*80)\n",
        "print('\\nRun time:', end - start)"
      ],
      "metadata": {
        "colab": {
          "base_uri": "https://localhost:8080/",
          "height": 0
        },
        "id": "sePzDh1mhbXd",
        "outputId": "ab97e028-c289-4b00-9654-3e21b6cc7840"
      },
      "execution_count": 76,
      "outputs": [
        {
          "output_type": "stream",
          "name": "stdout",
          "text": [
            "tf.Tensor(\n",
            "[b\"ROMEO:\\nArt thou as just, as it heart I have disproved in thee\\nAs own praying prepared Warwick,' did bride it with coniection.\\nSix yield me in the use on thee, 'think prove sleep,\\nTrust, pity, sir, a foolm and rings\\nto the Capitol-witness.\\n\\nProvost:\\nLest is your good duked has been to't,--\\nAnd here in these extilediest sweet blood swear your life\\nAs we have stain'd a mility: only for the\\nfeeling-surpruitions from the rivery of the women\\nBeet us in foreign your garland. Would I weed, Sir\\nHaply more executioner you here.\\nSay, what an old traitor paid it bring,\\none number, suffer't, being outrage, ere too much\\nHe can some vanter. But now 'tis face:\\nDid I in being none, as I can, yes, I\\ndeliver'd my viewing mothers and good night?\\nI am painted, dress'd in your find three cheeks,\\nWife to 'fore thee refenself, that I my lord.\\n\\nKING EDWARD IV:\\nHady this dread time to France,' date of marriage, nor of\\nthines that do lack discontented hum.\\n\\nMARIANA:\\nBy this, Lioving abolm\\nTo unsibel voices that we now\"\n",
            " b\"ROMEO:\\nIs this he god?\\n\\nLADY CAPULET:\\nHence by the bosom; not well onceidedhed.\\n\\nPETRUCHIO:\\nYou are well married then move which soon fed,\\nTo his own lips war within these words:\\nWhen virtue issue of yourselves came from\\nTheir births.\\n\\nLEONTES:\\nWhy, Warwick?'\\nWhere is Tybalt? Take Henry, be done eyedge,\\nThen Claring young Richard dream in noble counsel,\\nAnd said with plainly gives us the worser than it!\\nWhere be the noble dukedom, she hath the\\ndirect and by the life-beggant private\\nstinging.\\n\\nCAPULET:\\nContend you, but my request how 'Hon one of your command.\\n\\nAUTOLYCUS:\\nNo more.\\nSee on this seat by the year; O, 'tis known\\nIn thee; his brother and cheerful years\\nOf this royal persom, on her compance,\\nI shall be here in the officer of her.\\n\\nESCALUS:\\nI take our brother; and see where stumbles; and\\nall forsword to sweat command. If you\\n'pardon' the life!--outwith't all,\\nGod and Baptista to visit you.\\n\\nLUCIO:\\nWell, let's see: 'tis there gone too.\\nThey say my folly yet unbergenet,\\nHe strucken'd in\"\n",
            " b\"ROMEO:\\nDeliver your grace from whence thither-book?\\n\\nKING RICHARD III:\\nHave at thee, nead, they suppose these servess?\\n\\nFrom VANGARET:\\nTo envy in the pleasure that we have\\nconniciall'd the measure of the city. Let me see either\\nIn that sadutuay.\\n\\nLEONTES:\\nO my moandst it is too so; and\\na man do not take enough and pluck my hones.\\nWhat is your brow? God fleetent that,\\nHe weeping my most grave between us.\\n\\nMARIUS:\\nThis, poor Clarence!\\n\\nTRANIO:\\nOf sleeper'd brought forth enough: come.\\n\\nAUTOLYCUS:\\n\\nShepherd:\\nWhy looks your grace?\\n\\nGLOUCESTER:\\nThat these by these woesms drown'd,\\nIreal unover'd him, made puci'd up miny king,\\nAnd shut the sea that ever fence them accents.\\nWill your general charge him, ere he sut bringing\\nHave by my father wrongful march,\\nAs 'the 'Welt so in score, or in pound; and\\nbelieve Edward, and PETraha, and I'll be his purpose\\nBut oft her sorrow will not come: she had;\\nAnd when the truth your kind increasethous out,\\nAgainst my honourable coachman, would\\nI wear by, my great pr\"\n",
            " b\"ROMEO:\\nGo fortune, I am in them all.\\n\\nProvost:\\nShe's marry Patus: therefore leave Edward's grave,\\nAs if libret plemes Plantagenet, and\\nhere for peace.\\n\\nMENENIUS:\\nIs it not hot to England?\\n\\nLADY CAPULET:\\nFallous with!\\nYet prantagen clouds with streaks of cross;\\nAnd bonds becomef with flibt thraltes and\\nmatter: unless I be deceived; they are going,\\nMy raining is the head of this noble person,\\nOf whom you seeks the clouds that thou stood, on the world,\\nBut plainly child, my lord?\\n\\nFLORIZEL:\\nNow now, Camillo;\\nYour tribunes and whither!\\n\\nKING HENRY VI:\\nMy Lord of Slave, revel and London, I have heard\\nYour son.\\n\\nFirst Citizen:\\nAy, but the sight of thine.\\n\\nAUFIDIUS:\\nO natural, and us;\\nI can scarcely know him once a word with you.\\n\\nProvost:\\nNor I.\\n\\nCLoFFORD:\\nAs rule before heart, which sends you for this true,\\nWhen he doth stand and thankful thy tongue!\\nHie you, my soul, that got thee, there dead stringes\\nOf joys with glorious sense, I damn away\\nThe last-was head and all befased\\nThe pack of heaven m\"\n",
            " b\"ROMEO:\\nIf it shall be thy will,\\nForsueen with me along with God,\\nWhich often had no world's will towards Glove,\\nIs my tongue and brail and me in broils\\nHer eye divadled and unattainted I have sold\\nproved the heir of my soul and more steed\\nThe comparies of your seit-broad;\\nAnd the government in the common bind\\nOr eldest dissemfrished by dunion;\\nAnd thereto in the bishop hold her then,\\nLike to his regard browlest shore.\\n\\nBIRANDA:\\nYou had made nomed limit soul,\\nAnd leave this war things true:\\n'Than I am all confessous\\nLucentious in your service. I'll praise you,\\nFor I will last the way they lose.\\nThe precioil-meaned to the sea,\\nThat is not wont to Padua thee.\\nThe loss of liberty I have let and think\\nAnd she forgots and take my leave.\\nAnd hither comes a life; enseeming in the dire\\nOf such presence shall begeth the law;\\nAnd, as I did granted them, I'll bury\\nRich--below him for him; and, now a slave here in the hollow.\\nSound drums and true shall pay the place,\\nAnd this besome my daughter had done'\"], shape=(5,), dtype=string) \n",
            "\n",
            "________________________________________________________________________________\n",
            "\n",
            "Run time: 3.5853166580200195\n"
          ]
        }
      ]
    },
    {
      "cell_type": "markdown",
      "source": [
        "**Ekspor Model Generator**"
      ],
      "metadata": {
        "id": "FpHTg-jGUa3c"
      }
    },
    {
      "cell_type": "code",
      "source": [
        "tf.saved_model.save(one_step_model, 'one_step')\n",
        "one_step_reloaded = tf.saved_model.load('one_step')"
      ],
      "metadata": {
        "colab": {
          "base_uri": "https://localhost:8080/",
          "height": 0
        },
        "id": "22Mk394ahdy_",
        "outputId": "62a7ceec-7651-46c3-df15-59dfa18f769f"
      },
      "execution_count": 77,
      "outputs": [
        {
          "output_type": "stream",
          "name": "stderr",
          "text": [
            "WARNING:tensorflow:Skipping full serialization of Keras layer <__main__.OneStep object at 0x7af3c788c4c0>, because it is not built.\n",
            "WARNING:tensorflow:Model's `__init__()` arguments contain non-serializable objects. Please implement a `get_config()` method in the subclassed Model for proper saving and loading. Defaulting to empty config.\n",
            "WARNING:tensorflow:Model's `__init__()` arguments contain non-serializable objects. Please implement a `get_config()` method in the subclassed Model for proper saving and loading. Defaulting to empty config.\n"
          ]
        }
      ]
    },
    {
      "cell_type": "code",
      "source": [
        "states = None\n",
        "next_char = tf.constant(['ROMEO:'])\n",
        "result = [next_char]\n",
        "\n",
        "for n in range(100):\n",
        "  next_char, states = one_step_reloaded.generate_one_step(next_char, states=states)\n",
        "  result.append(next_char)\n",
        "\n",
        "print(tf.strings.join(result)[0].numpy().decode(\"utf-8\"))"
      ],
      "metadata": {
        "colab": {
          "base_uri": "https://localhost:8080/",
          "height": 0
        },
        "id": "AQmde9N_hjSx",
        "outputId": "2bfddc7d-28ff-4379-aa12-d6cf9e788fad"
      },
      "execution_count": 78,
      "outputs": [
        {
          "output_type": "stream",
          "name": "stdout",
          "text": [
            "ROMEO:\n",
            "Soft, sir! here, sir, nor all the blood of these griefs!\n",
            "\n",
            "YORK:\n",
            "My fair is accursed; when you call \n"
          ]
        }
      ]
    },
    {
      "cell_type": "markdown",
      "source": [
        "# **TUGAS**"
      ],
      "metadata": {
        "id": "kw3WVC8tiDAj"
      }
    },
    {
      "cell_type": "markdown",
      "source": [
        "**Prosedurnya adalah:**\n"
      ],
      "metadata": {
        "id": "3kwy7glMiGMT"
      }
    },
    {
      "cell_type": "markdown",
      "source": [
        "1. Jalankan Model dan hitung loss dengan tf.GradientTape."
      ],
      "metadata": {
        "id": "OU1D2YkMiS05"
      }
    },
    {
      "cell_type": "markdown",
      "source": [
        "2. Hitung update dan terapkan pada model dengan optimizer"
      ],
      "metadata": {
        "id": "mW4ult90iXVb"
      }
    },
    {
      "cell_type": "code",
      "source": [
        "class CustomTraining(MyModel):\n",
        "  @tf.function\n",
        "  def train_step(self, inputs):\n",
        "      inputs, labels = inputs\n",
        "      with tf.GradientTape() as tape:\n",
        "          predictions = self(inputs, training=True)\n",
        "          loss = self.loss(labels, predictions)\n",
        "          grads = tape.gradient(loss, model.trainable_variables)\n",
        "      self.optimizer.apply_gradients(zip(grads, model.trainable_variables))\n",
        "\n",
        "      return {'loss': loss}"
      ],
      "metadata": {
        "id": "6KZqb6-px_-2"
      },
      "execution_count": 79,
      "outputs": []
    },
    {
      "cell_type": "markdown",
      "source": [
        "> Kode diatas menerapkan train_step method sesuai dengan  Keras' train_step conventions. Ini opsional, tetapi memungkinkan Anda mengubah perilaku langkah pelatihan dan tetap menggunakan keras Model.compile and Model.fit methods.\n",
        "\n"
      ],
      "metadata": {
        "id": "n659BRXAiiJB"
      }
    },
    {
      "cell_type": "code",
      "source": [
        "model = CustomTraining(\n",
        "    vocab_size=len(ids_from_chars.get_vocabulary()),\n",
        "    embedding_dim=embedding_dim,\n",
        "    rnn_units=rnn_units)"
      ],
      "metadata": {
        "id": "hMEUx81gyJgO"
      },
      "execution_count": 80,
      "outputs": []
    },
    {
      "cell_type": "code",
      "source": [
        "model.compile(optimizer = tf.keras.optimizers.Adam(),\n",
        "              loss=tf.keras.losses.SparseCategoricalCrossentropy(from_logits=True))"
      ],
      "metadata": {
        "id": "d05e4dizyOkI"
      },
      "execution_count": 81,
      "outputs": []
    },
    {
      "cell_type": "code",
      "source": [
        "model.fit(dataset, epochs=1)"
      ],
      "metadata": {
        "id": "5BVIB-oQyQ0n",
        "colab": {
          "base_uri": "https://localhost:8080/",
          "height": 0
        },
        "outputId": "3b58c526-e907-4c5d-f0fb-73cd133a3217"
      },
      "execution_count": 82,
      "outputs": [
        {
          "output_type": "stream",
          "name": "stdout",
          "text": [
            "172/172 [==============================] - 16s 57ms/step - loss: 2.7306\n"
          ]
        },
        {
          "output_type": "execute_result",
          "data": {
            "text/plain": [
              "<keras.src.callbacks.History at 0x7af3cc93e650>"
            ]
          },
          "metadata": {},
          "execution_count": 82
        }
      ]
    },
    {
      "cell_type": "markdown",
      "source": [
        "\n",
        "\n",
        "> Atau jika ingin lebih mengetahui dalamnya, kita bisa membuat custom training loop sendiri:\n",
        "\n"
      ],
      "metadata": {
        "id": "KFrwYgS9isQS"
      }
    },
    {
      "cell_type": "code",
      "source": [
        "EPOCHS = 10\n",
        "\n",
        "mean = tf.metrics.Mean()\n",
        "\n",
        "for epoch in range(EPOCHS):\n",
        "    start = time.time()\n",
        "\n",
        "    mean.reset_states()\n",
        "    for (batch_n, (inp, target)) in enumerate(dataset):\n",
        "        logs = model.train_step([inp, target])\n",
        "        mean.update_state(logs['loss'])\n",
        "\n",
        "        if batch_n % 50 == 0:\n",
        "            template = f\"Epoch {epoch+1} Batch {batch_n} Loss {logs['loss']:.4f}\"\n",
        "            print(template)\n",
        "\n",
        "# saving (checkpoint) the model every 5 epochs\n",
        "    if (epoch + 1) % 5 == 0:\n",
        "        model.save_weights(checkpoint_prefix.format(epoch=epoch))\n",
        "\n",
        "    print()\n",
        "    print(f'Epoch {epoch+1} Loss: {mean.result().numpy():.4f}')\n",
        "    print(f'Time taken for 1 epoch {time.time() - start:.2f} sec')\n",
        "    print(\"_\"*80)\n",
        "\n",
        "model.save_weights(checkpoint_prefix.format(epoch=epoch))"
      ],
      "metadata": {
        "id": "4KEr9QSriyti",
        "colab": {
          "base_uri": "https://localhost:8080/",
          "height": 0
        },
        "outputId": "6491798f-d5f9-44b8-ad8e-e2d5b3144f3f"
      },
      "execution_count": 83,
      "outputs": [
        {
          "output_type": "stream",
          "name": "stdout",
          "text": [
            "Epoch 1 Batch 0 Loss 2.1852\n",
            "Epoch 1 Batch 50 Loss 2.0770\n",
            "Epoch 1 Batch 100 Loss 1.9767\n",
            "Epoch 1 Batch 150 Loss 1.8728\n",
            "\n",
            "Epoch 1 Loss: 1.9967\n",
            "Time taken for 1 epoch 12.98 sec\n",
            "________________________________________________________________________________\n",
            "Epoch 2 Batch 0 Loss 1.8339\n",
            "Epoch 2 Batch 50 Loss 1.7252\n",
            "Epoch 2 Batch 100 Loss 1.6974\n",
            "Epoch 2 Batch 150 Loss 1.6561\n",
            "\n",
            "Epoch 2 Loss: 1.7159\n",
            "Time taken for 1 epoch 20.47 sec\n",
            "________________________________________________________________________________\n",
            "Epoch 3 Batch 0 Loss 1.6371\n",
            "Epoch 3 Batch 50 Loss 1.5537\n",
            "Epoch 3 Batch 100 Loss 1.5625\n",
            "Epoch 3 Batch 150 Loss 1.5179\n",
            "\n",
            "Epoch 3 Loss: 1.5554\n",
            "Time taken for 1 epoch 11.21 sec\n",
            "________________________________________________________________________________\n",
            "Epoch 4 Batch 0 Loss 1.4405\n",
            "Epoch 4 Batch 50 Loss 1.4631\n",
            "Epoch 4 Batch 100 Loss 1.4582\n",
            "Epoch 4 Batch 150 Loss 1.4008\n",
            "\n",
            "Epoch 4 Loss: 1.4560\n",
            "Time taken for 1 epoch 11.11 sec\n",
            "________________________________________________________________________________\n",
            "Epoch 5 Batch 0 Loss 1.3949\n",
            "Epoch 5 Batch 50 Loss 1.4163\n",
            "Epoch 5 Batch 100 Loss 1.3732\n",
            "Epoch 5 Batch 150 Loss 1.4157\n",
            "\n",
            "Epoch 5 Loss: 1.3883\n",
            "Time taken for 1 epoch 13.73 sec\n",
            "________________________________________________________________________________\n",
            "Epoch 6 Batch 0 Loss 1.3267\n",
            "Epoch 6 Batch 50 Loss 1.3699\n",
            "Epoch 6 Batch 100 Loss 1.3736\n",
            "Epoch 6 Batch 150 Loss 1.2901\n",
            "\n",
            "Epoch 6 Loss: 1.3348\n",
            "Time taken for 1 epoch 13.23 sec\n",
            "________________________________________________________________________________\n",
            "Epoch 7 Batch 0 Loss 1.2864\n",
            "Epoch 7 Batch 50 Loss 1.2653\n",
            "Epoch 7 Batch 100 Loss 1.2556\n",
            "Epoch 7 Batch 150 Loss 1.2675\n",
            "\n",
            "Epoch 7 Loss: 1.2903\n",
            "Time taken for 1 epoch 13.75 sec\n",
            "________________________________________________________________________________\n",
            "Epoch 8 Batch 0 Loss 1.2321\n",
            "Epoch 8 Batch 50 Loss 1.2555\n",
            "Epoch 8 Batch 100 Loss 1.2439\n",
            "Epoch 8 Batch 150 Loss 1.2502\n",
            "\n",
            "Epoch 8 Loss: 1.2494\n",
            "Time taken for 1 epoch 11.80 sec\n",
            "________________________________________________________________________________\n",
            "Epoch 9 Batch 0 Loss 1.1730\n",
            "Epoch 9 Batch 50 Loss 1.2074\n",
            "Epoch 9 Batch 100 Loss 1.2061\n",
            "Epoch 9 Batch 150 Loss 1.2215\n",
            "\n",
            "Epoch 9 Loss: 1.2099\n",
            "Time taken for 1 epoch 11.08 sec\n",
            "________________________________________________________________________________\n",
            "Epoch 10 Batch 0 Loss 1.1677\n",
            "Epoch 10 Batch 50 Loss 1.1411\n",
            "Epoch 10 Batch 100 Loss 1.1979\n",
            "Epoch 10 Batch 150 Loss 1.1733\n",
            "\n",
            "Epoch 10 Loss: 1.1708\n",
            "Time taken for 1 epoch 11.47 sec\n",
            "________________________________________________________________________________\n"
          ]
        }
      ]
    },
    {
      "cell_type": "markdown",
      "source": [
        "3. Jalankan kode diatas dan sebutkan perbedaanya dengan praktikum 2?"
      ],
      "metadata": {
        "id": "AUoyKGceidjB"
      }
    },
    {
      "cell_type": "markdown",
      "source": [
        "Terdapat beberapa perbedaan utama antara praktikum 2 dan pelatihan tugas yang jalankan:\n",
        "\n",
        "**1. Model Architectures:**\n",
        "\n",
        "* Praktikum 2 menggunakan model bahasa berdasarkan RNN (Recurrent Neural Network), sementara pelatihan tugas mungkin menggunakan arsitektur yang berbeda, seperti GRU (Gated Recurrent Unit) dalam model .\n",
        "*Praktikum 2 mungkin lebih sederhana dalam hal arsitektur model karena digunakan sebagai demonstrasi dasar. Model pelatihan tugas tampaknya memiliki lapisan embedding, lapisan GRU, dan lapisan dense.\n",
        "\n",
        "**2. Epochs:**\n",
        "\n",
        "* Dalam praktikum 2, menjalankan model selama 20 epoch, sedangkan dalam pelatihan tugas , melatih model selama 10 epoch.\n",
        "\n",
        "**3. Prosedur Pelatihan:**\n",
        "\n",
        "* Praktikum 2 mungkin lebih sederhana dalam hal pelatihan dan menggunakan API model.fit() bawaan Keras.\n",
        "* Dalam pelatihan tugas , mengimplementasikan loop pelatihan khusus dengan menggunakan train_step, yang memberikan lebih banyak kontrol atas proses pelatihan, seperti pengukuran loss, perhitungan gradien, dan optimasi.\n",
        "\n",
        "**4. Output Hasil Pelatihan:**\n",
        "\n",
        "* Hasil dari praktikum 2 adalah informasi singkat tentang loss selama pelatihan tanpa informasi lebih lanjut tentang perbedaan antar epoch atau waktu eksekusi.\n",
        "* Dalam pelatihan tugas , mencantumkan loss untuk setiap batch dan untuk setiap epoch, serta waktu yang diperlukan untuk menjalankan setiap epoch.\n",
        "\n",
        "**5. Waktu Eksekusi:**\n",
        "\n",
        "* Waktu eksekusi per epoch mungkin berbeda di antara kedua eksperimen karena praktikum 2 mungkin lebih cepat dalam pengaturan default, sedangkan dalam pelatihan tugas, waktu eksekusi mungkin lebih lama karena menjalankan model selama lebih banyak epoch.\n",
        "Produk"
      ],
      "metadata": {
        "id": "6UKsD6Coj5xS"
      }
    }
  ]
}